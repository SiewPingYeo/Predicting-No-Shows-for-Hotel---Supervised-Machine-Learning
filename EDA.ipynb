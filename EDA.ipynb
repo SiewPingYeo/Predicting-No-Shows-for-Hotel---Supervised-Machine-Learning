{
 "cells": [
  {
   "cell_type": "markdown",
   "id": "8dc41ff6",
   "metadata": {},
   "source": [
    "### Workflow \n",
    "\n",
    "1. Import Relevant Libraries\n",
    "2. Import Data from Database\n",
    "3. Data Exploration and Data Cleaning \n",
    "4. Exploratory Data Analysis\n",
    "    - Univariate Analysis \n",
    "    - Bi-variate and Multi-variate Analysis \n",
    "5. Feature Engineering \n",
    "\n"
   ]
  },
  {
   "cell_type": "markdown",
   "id": "50e544d3",
   "metadata": {},
   "source": [
    "## 1. Import Relevant Libraries"
   ]
  },
  {
   "cell_type": "code",
   "execution_count": 2,
   "id": "23a5ac8a",
   "metadata": {},
   "outputs": [],
   "source": [
    "# Import relevant libraries\n",
    "import sqlite3\n",
    "import pandas as pd\n",
    "import numpy as np\n",
    "import seaborn as sns\n",
    "import matplotlib.pyplot as plt\n",
    "%matplotlib inline\n",
    "plt.style.use('ggplot')"
   ]
  },
  {
   "cell_type": "markdown",
   "id": "19101598",
   "metadata": {},
   "source": [
    "## 2. Import Data from Database"
   ]
  },
  {
   "cell_type": "code",
   "execution_count": 3,
   "id": "4062576f",
   "metadata": {},
   "outputs": [],
   "source": [
    "# Set up connection to database using sqlite3\n",
    "conn = sqlite3.connect('data/noshow.db')\n"
   ]
  },
  {
   "cell_type": "code",
   "execution_count": 4,
   "id": "eba33c5f",
   "metadata": {},
   "outputs": [],
   "source": [
    "# sql query to select all columns from the table noshow\n",
    "query = \"Select * from noshow;\"\n",
    "df = pd.read_sql(query,conn)\n",
    "#close the connection\n",
    "conn.close() "
   ]
  },
  {
   "cell_type": "markdown",
   "id": "a7c8ae09",
   "metadata": {},
   "source": [
    "## 3. Data Exploration and Data Cleaning"
   ]
  },
  {
   "cell_type": "code",
   "execution_count": 5,
   "id": "4f41a5a7",
   "metadata": {},
   "outputs": [
    {
     "data": {
      "text/html": [
       "<div>\n",
       "<style scoped>\n",
       "    .dataframe tbody tr th:only-of-type {\n",
       "        vertical-align: middle;\n",
       "    }\n",
       "\n",
       "    .dataframe tbody tr th {\n",
       "        vertical-align: top;\n",
       "    }\n",
       "\n",
       "    .dataframe thead th {\n",
       "        text-align: right;\n",
       "    }\n",
       "</style>\n",
       "<table border=\"1\" class=\"dataframe\">\n",
       "  <thead>\n",
       "    <tr style=\"text-align: right;\">\n",
       "      <th></th>\n",
       "      <th>no_show</th>\n",
       "      <th>branch</th>\n",
       "      <th>booking_month</th>\n",
       "      <th>arrival_month</th>\n",
       "      <th>arrival_day</th>\n",
       "      <th>checkout_month</th>\n",
       "      <th>checkout_day</th>\n",
       "      <th>country</th>\n",
       "      <th>first_time</th>\n",
       "      <th>room</th>\n",
       "      <th>price</th>\n",
       "      <th>platform</th>\n",
       "      <th>num_adults</th>\n",
       "      <th>num_children</th>\n",
       "    </tr>\n",
       "  </thead>\n",
       "  <tbody>\n",
       "    <tr>\n",
       "      <th>0</th>\n",
       "      <td>1.0</td>\n",
       "      <td>Changi</td>\n",
       "      <td>July</td>\n",
       "      <td>May</td>\n",
       "      <td>19.0</td>\n",
       "      <td>May</td>\n",
       "      <td>20.0</td>\n",
       "      <td>China</td>\n",
       "      <td>Yes</td>\n",
       "      <td>King</td>\n",
       "      <td>None</td>\n",
       "      <td>Email</td>\n",
       "      <td>2</td>\n",
       "      <td>1.0</td>\n",
       "    </tr>\n",
       "    <tr>\n",
       "      <th>1</th>\n",
       "      <td>0.0</td>\n",
       "      <td>Orchard</td>\n",
       "      <td>December</td>\n",
       "      <td>February</td>\n",
       "      <td>28.0</td>\n",
       "      <td>March</td>\n",
       "      <td>-4.0</td>\n",
       "      <td>India</td>\n",
       "      <td>Yes</td>\n",
       "      <td>None</td>\n",
       "      <td>USD$ 723.34</td>\n",
       "      <td>Email</td>\n",
       "      <td>1</td>\n",
       "      <td>0.0</td>\n",
       "    </tr>\n",
       "    <tr>\n",
       "      <th>2</th>\n",
       "      <td>0.0</td>\n",
       "      <td>Orchard</td>\n",
       "      <td>December</td>\n",
       "      <td>May</td>\n",
       "      <td>22.0</td>\n",
       "      <td>May</td>\n",
       "      <td>24.0</td>\n",
       "      <td>Australia</td>\n",
       "      <td>Yes</td>\n",
       "      <td>Single</td>\n",
       "      <td>SGD$ 650.94</td>\n",
       "      <td>Website</td>\n",
       "      <td>1</td>\n",
       "      <td>0.0</td>\n",
       "    </tr>\n",
       "    <tr>\n",
       "      <th>3</th>\n",
       "      <td>0.0</td>\n",
       "      <td>Orchard</td>\n",
       "      <td>October</td>\n",
       "      <td>September</td>\n",
       "      <td>2.0</td>\n",
       "      <td>September</td>\n",
       "      <td>4.0</td>\n",
       "      <td>China</td>\n",
       "      <td>Yes</td>\n",
       "      <td>None</td>\n",
       "      <td>SGD$ 978.67</td>\n",
       "      <td>Agent</td>\n",
       "      <td>1</td>\n",
       "      <td>1.0</td>\n",
       "    </tr>\n",
       "    <tr>\n",
       "      <th>4</th>\n",
       "      <td>0.0</td>\n",
       "      <td>Orchard</td>\n",
       "      <td>February</td>\n",
       "      <td>February</td>\n",
       "      <td>7.0</td>\n",
       "      <td>February</td>\n",
       "      <td>8.0</td>\n",
       "      <td>China</td>\n",
       "      <td>Yes</td>\n",
       "      <td>King</td>\n",
       "      <td>None</td>\n",
       "      <td>Website</td>\n",
       "      <td>1</td>\n",
       "      <td>2.0</td>\n",
       "    </tr>\n",
       "  </tbody>\n",
       "</table>\n",
       "</div>"
      ],
      "text/plain": [
       "   no_show   branch booking_month arrival_month  arrival_day checkout_month  \\\n",
       "0      1.0   Changi          July           May         19.0            May   \n",
       "1      0.0  Orchard      December      February         28.0          March   \n",
       "2      0.0  Orchard      December           May         22.0            May   \n",
       "3      0.0  Orchard       October     September          2.0      September   \n",
       "4      0.0  Orchard      February      February          7.0       February   \n",
       "\n",
       "   checkout_day    country first_time    room        price platform  \\\n",
       "0          20.0      China        Yes    King         None    Email   \n",
       "1          -4.0      India        Yes    None  USD$ 723.34    Email   \n",
       "2          24.0  Australia        Yes  Single  SGD$ 650.94  Website   \n",
       "3           4.0      China        Yes    None  SGD$ 978.67    Agent   \n",
       "4           8.0      China        Yes    King         None  Website   \n",
       "\n",
       "  num_adults  num_children  \n",
       "0          2           1.0  \n",
       "1          1           0.0  \n",
       "2          1           0.0  \n",
       "3          1           1.0  \n",
       "4          1           2.0  "
      ]
     },
     "execution_count": 5,
     "metadata": {},
     "output_type": "execute_result"
    }
   ],
   "source": [
    "df.head()"
   ]
  },
  {
   "cell_type": "code",
   "execution_count": 6,
   "id": "83d809c4",
   "metadata": {},
   "outputs": [
    {
     "name": "stdout",
     "output_type": "stream",
     "text": [
      "<class 'pandas.core.frame.DataFrame'>\n",
      "RangeIndex: 119391 entries, 0 to 119390\n",
      "Data columns (total 14 columns):\n",
      " #   Column          Non-Null Count   Dtype  \n",
      "---  ------          --------------   -----  \n",
      " 0   no_show         119390 non-null  float64\n",
      " 1   branch          119390 non-null  object \n",
      " 2   booking_month   119390 non-null  object \n",
      " 3   arrival_month   119390 non-null  object \n",
      " 4   arrival_day     119390 non-null  float64\n",
      " 5   checkout_month  119390 non-null  object \n",
      " 6   checkout_day    119390 non-null  float64\n",
      " 7   country         119390 non-null  object \n",
      " 8   first_time      119390 non-null  object \n",
      " 9   room            97778 non-null   object \n",
      " 10  price           94509 non-null   object \n",
      " 11  platform        119390 non-null  object \n",
      " 12  num_adults      119390 non-null  object \n",
      " 13  num_children    119390 non-null  float64\n",
      "dtypes: float64(4), object(10)\n",
      "memory usage: 12.8+ MB\n"
     ]
    }
   ],
   "source": [
    "# Check the data types of the columns, only room and price has null values\n",
    "df.info()"
   ]
  },
  {
   "cell_type": "code",
   "execution_count": 7,
   "id": "7dad4bed",
   "metadata": {},
   "outputs": [
    {
     "data": {
      "text/html": [
       "<div>\n",
       "<style scoped>\n",
       "    .dataframe tbody tr th:only-of-type {\n",
       "        vertical-align: middle;\n",
       "    }\n",
       "\n",
       "    .dataframe tbody tr th {\n",
       "        vertical-align: top;\n",
       "    }\n",
       "\n",
       "    .dataframe thead th {\n",
       "        text-align: right;\n",
       "    }\n",
       "</style>\n",
       "<table border=\"1\" class=\"dataframe\">\n",
       "  <thead>\n",
       "    <tr style=\"text-align: right;\">\n",
       "      <th></th>\n",
       "      <th>no_show</th>\n",
       "      <th>arrival_day</th>\n",
       "      <th>checkout_day</th>\n",
       "      <th>num_children</th>\n",
       "    </tr>\n",
       "  </thead>\n",
       "  <tbody>\n",
       "    <tr>\n",
       "      <th>count</th>\n",
       "      <td>119390.000000</td>\n",
       "      <td>119390.000000</td>\n",
       "      <td>119390.000000</td>\n",
       "      <td>119390.000000</td>\n",
       "    </tr>\n",
       "    <tr>\n",
       "      <th>mean</th>\n",
       "      <td>0.370416</td>\n",
       "      <td>15.798241</td>\n",
       "      <td>14.250507</td>\n",
       "      <td>0.871229</td>\n",
       "    </tr>\n",
       "    <tr>\n",
       "      <th>std</th>\n",
       "      <td>0.482918</td>\n",
       "      <td>8.780829</td>\n",
       "      <td>11.063697</td>\n",
       "      <td>0.779796</td>\n",
       "    </tr>\n",
       "    <tr>\n",
       "      <th>min</th>\n",
       "      <td>0.000000</td>\n",
       "      <td>1.000000</td>\n",
       "      <td>-31.000000</td>\n",
       "      <td>0.000000</td>\n",
       "    </tr>\n",
       "    <tr>\n",
       "      <th>25%</th>\n",
       "      <td>0.000000</td>\n",
       "      <td>8.000000</td>\n",
       "      <td>7.000000</td>\n",
       "      <td>0.000000</td>\n",
       "    </tr>\n",
       "    <tr>\n",
       "      <th>50%</th>\n",
       "      <td>0.000000</td>\n",
       "      <td>16.000000</td>\n",
       "      <td>15.000000</td>\n",
       "      <td>1.000000</td>\n",
       "    </tr>\n",
       "    <tr>\n",
       "      <th>75%</th>\n",
       "      <td>1.000000</td>\n",
       "      <td>23.000000</td>\n",
       "      <td>23.000000</td>\n",
       "      <td>1.000000</td>\n",
       "    </tr>\n",
       "    <tr>\n",
       "      <th>max</th>\n",
       "      <td>1.000000</td>\n",
       "      <td>31.000000</td>\n",
       "      <td>31.000000</td>\n",
       "      <td>3.000000</td>\n",
       "    </tr>\n",
       "  </tbody>\n",
       "</table>\n",
       "</div>"
      ],
      "text/plain": [
       "             no_show    arrival_day   checkout_day   num_children\n",
       "count  119390.000000  119390.000000  119390.000000  119390.000000\n",
       "mean        0.370416      15.798241      14.250507       0.871229\n",
       "std         0.482918       8.780829      11.063697       0.779796\n",
       "min         0.000000       1.000000     -31.000000       0.000000\n",
       "25%         0.000000       8.000000       7.000000       0.000000\n",
       "50%         0.000000      16.000000      15.000000       1.000000\n",
       "75%         1.000000      23.000000      23.000000       1.000000\n",
       "max         1.000000      31.000000      31.000000       3.000000"
      ]
     },
     "execution_count": 7,
     "metadata": {},
     "output_type": "execute_result"
    }
   ],
   "source": [
    "df.describe()"
   ]
  },
  {
   "cell_type": "code",
   "execution_count": 8,
   "id": "989d0eef",
   "metadata": {},
   "outputs": [
    {
     "data": {
      "text/plain": [
       "<AxesSubplot:title={'center':'Unique values per feature'}>"
      ]
     },
     "execution_count": 8,
     "metadata": {},
     "output_type": "execute_result"
    },
    {
     "data": {
      "image/png": "[encoded data removed]",
      "text/plain": [
       "<Figure size 720x288 with 1 Axes>"
      ]
     },
     "metadata": {},
     "output_type": "display_data"
    }
   ],
   "source": [
    "# Find out the number of unique values of the categorical features \n",
    "unique_values_cat = df.select_dtypes(\n",
    "  include= \"object\").nunique().sort_values()\n",
    "\n",
    "# Find out the number of unique values of the numerical features \n",
    "unique_values_con = df.select_dtypes(\n",
    "  include= \"number\").nunique().sort_values()\n",
    "\n",
    "# Plot a countplot of the unique values per numerical feature\n",
    "unique_values_con.plot.bar(logy=False, figsize=(10, 4),\n",
    "                       title=\"Unique values per feature\", color= 'orange')"
   ]
  },
  {
   "cell_type": "code",
   "execution_count": 9,
   "id": "0f7ac679",
   "metadata": {},
   "outputs": [
    {
     "data": {
      "text/plain": [
       "<AxesSubplot:title={'center':'Unique values per feature'}>"
      ]
     },
     "execution_count": 9,
     "metadata": {},
     "output_type": "execute_result"
    },
    {
     "data": {
      "image/png": "[encoded data removed]",
      "text/plain": [
       "<Figure size 720x288 with 1 Axes>"
      ]
     },
     "metadata": {},
     "output_type": "display_data"
    }
   ],
   "source": [
    "# Plot a countplot of the unique values per categorical feature\n",
    "unique_values_cat.plot.bar( figsize=(10, 4),\n",
    "                       title=\"Unique values per feature\", color= 'green', logy=True)"
   ]
  },
  {
   "cell_type": "markdown",
   "id": "683fa595",
   "metadata": {},
   "source": [
    "Based on the plots above, some of the columns have wrong data types e.g price should be a continuous feature and not categorical. The continuous features in the first plot should be converted to categorical features instead. Therefore, data cleaning is needed. \n"
   ]
  },
  {
   "cell_type": "code",
   "execution_count": 10,
   "id": "e7d1fc41",
   "metadata": {},
   "outputs": [
    {
     "name": "stdout",
     "output_type": "stream",
     "text": [
      "0.0    75166\n",
      "1.0    44224\n",
      "Name: no_show, dtype: int64\n",
      "Changi     79330\n",
      "Orchard    40060\n",
      "Name: branch, dtype: int64\n",
      "June         10324\n",
      "September    10315\n",
      "November     10280\n",
      "January      10214\n",
      "August       10134\n",
      "October      10068\n",
      "July          9993\n",
      "March         9754\n",
      "February      9588\n",
      "May           9588\n",
      "April         9571\n",
      "December      9561\n",
      "Name: booking_month, dtype: int64\n",
      "August      13695\n",
      "July        12515\n",
      "May         11684\n",
      "October     11009\n",
      "April       10966\n",
      "            ...  \n",
      "FeBruaRy        1\n",
      "MAY             1\n",
      "FeBruarY        1\n",
      "ApRiL           1\n",
      "DecEMber        1\n",
      "Name: arrival_month, Length: 88, dtype: int64\n",
      "17.0    4406\n",
      "5.0     4317\n",
      "15.0    4196\n",
      "25.0    4160\n",
      "26.0    4147\n",
      "9.0     4096\n",
      "12.0    4087\n",
      "16.0    4078\n",
      "2.0     4055\n",
      "19.0    4052\n",
      "20.0    4032\n",
      "18.0    4002\n",
      "24.0    3993\n",
      "28.0    3946\n",
      "8.0     3921\n",
      "3.0     3855\n",
      "30.0    3853\n",
      "6.0     3833\n",
      "14.0    3819\n",
      "27.0    3802\n",
      "21.0    3767\n",
      "4.0     3763\n",
      "13.0    3745\n",
      "7.0     3665\n",
      "1.0     3626\n",
      "23.0    3616\n",
      "11.0    3599\n",
      "22.0    3596\n",
      "29.0    3580\n",
      "10.0    3575\n",
      "31.0    2208\n",
      "Name: arrival_day, dtype: int64\n",
      "August       13836\n",
      "July         12760\n",
      "May          12044\n",
      "October      11434\n",
      "April        11016\n",
      "June         10692\n",
      "September    10416\n",
      "March         9509\n",
      "February      7716\n",
      "November      7214\n",
      "January       6516\n",
      "December      6237\n",
      "Name: checkout_month, dtype: int64\n",
      " 11.0    4458\n",
      " 18.0    4248\n",
      " 20.0    4207\n",
      " 27.0    4006\n",
      " 4.0     3972\n",
      "         ... \n",
      "-12.0     157\n",
      "-13.0     154\n",
      "-30.0     151\n",
      "-5.0      145\n",
      "-31.0      87\n",
      "Name: checkout_day, Length: 62, dtype: int64\n",
      "China        48590\n",
      "Indonesia    25812\n",
      "India        15790\n",
      "Australia    12129\n",
      "Japan         9391\n",
      "Singapore     3912\n",
      "Malaysia      3766\n",
      "Name: country, dtype: int64\n",
      "Yes    115580\n",
      "No       3810\n",
      "Name: first_time, dtype: int64\n",
      "King               70496\n",
      "Single             15697\n",
      "Queen              10824\n",
      "President Suite      761\n",
      "Name: room, dtype: int64\n",
      "USD$ 585.23     11\n",
      "USD$ 619.19     10\n",
      "USD$ 665.72     10\n",
      "USD$ 627.79      9\n",
      "USD$ 670.42      9\n",
      "                ..\n",
      "SGD$ 1421.14     1\n",
      "SGD$ 686.03      1\n",
      "USD$ 554.64      1\n",
      "USD$ 923.33      1\n",
      "SGD$ 953.94      1\n",
      "Name: price, Length: 61867, dtype: int64\n",
      "Website    54234\n",
      "Email      32608\n",
      "Agent      21735\n",
      "Phone      10813\n",
      "Name: platform, dtype: int64\n",
      "1      62745\n",
      "2      45243\n",
      "one     6334\n",
      "two     5068\n",
      "Name: num_adults, dtype: int64\n",
      "1.0    45556\n",
      "0.0    44728\n",
      "2.0    28858\n",
      "3.0      248\n",
      "Name: num_children, dtype: int64\n"
     ]
    }
   ],
   "source": [
    "# Check the values of each column and their distribution\n",
    "for i in df.columns:\n",
    "    print(df[i].value_counts())"
   ]
  },
  {
   "cell_type": "markdown",
   "id": "0f8b803a",
   "metadata": {},
   "source": [
    "Observations for each column: \n",
    "\n",
    "1. no_show - convert to datatype integer \n",
    "2. branch - dummy encoding can be done\n",
    "3. Booking month - frequency encoding can be done\n",
    "4. Arrival month - The labels are all in mixture of upper and lowercase, therefore there is a need to clean up. Frequency encoding can be done. \n",
    "5. arrival day - frequency encoding can be done\n",
    "6. check out month - frequency encoding can be done\n",
    "7. check out day - The labels have negative values , which is not logical for a day date format, thus need to clean up. Frequency encoding can be done\n",
    "8. country - dummy encoding can be done \n",
    "9. first time - dummy encoding can be done\n",
    "10. room type - Misisng values are present , will need to fill in missing values with mode and dummy encoding can be done\n",
    "11. price - Will need to clean up and standardised to SGD currency , fill in missing with mean and check if it is normally distributed and need log transformation\n",
    "12. platform - dummy encoding cna be done\n",
    "13. num_adults - will need to clean up as the labels are not standardised and dummy encoding can be done\n",
    "14. num_children - will need to chnage datatype to int and dummy encoding can be done"
   ]
  },
  {
   "cell_type": "markdown",
   "id": "ad91e4c1",
   "metadata": {},
   "source": [
    "#### Dealing with null values and imputing missing values"
   ]
  },
  {
   "cell_type": "code",
   "execution_count": 11,
   "id": "e5fc3c71",
   "metadata": {},
   "outputs": [
    {
     "data": {
      "text/plain": [
       "<AxesSubplot:>"
      ]
     },
     "execution_count": 11,
     "metadata": {},
     "output_type": "execute_result"
    },
    {
     "data": {
      "image/png": "[encoded data removed]",
      "text/plain": [
       "<Figure size 720x432 with 2 Axes>"
      ]
     },
     "metadata": {},
     "output_type": "display_data"
    }
   ],
   "source": [
    "# Visualise null values using heatmap\n",
    "plt.figure(figsize=(10,6))\n",
    "sns.heatmap(df.isna().transpose(),\n",
    "            cbar_kws={'label': 'Missing Data'})"
   ]
  },
  {
   "cell_type": "code",
   "execution_count": 12,
   "id": "f3e46764",
   "metadata": {},
   "outputs": [
    {
     "data": {
      "text/plain": [
       "no_show               1\n",
       "branch                1\n",
       "booking_month         1\n",
       "arrival_month         1\n",
       "arrival_day           1\n",
       "checkout_month        1\n",
       "checkout_day          1\n",
       "country               1\n",
       "first_time            1\n",
       "room              21613\n",
       "price             24882\n",
       "platform              1\n",
       "num_adults            1\n",
       "num_children          1\n",
       "dtype: int64"
      ]
     },
     "execution_count": 12,
     "metadata": {},
     "output_type": "execute_result"
    }
   ],
   "source": [
    "# Check for null values in the dataframe\n",
    "df.isnull().sum()"
   ]
  },
  {
   "cell_type": "code",
   "execution_count": 13,
   "id": "9c42b14b",
   "metadata": {},
   "outputs": [
    {
     "data": {
      "text/plain": [
       "115536   NaN\n",
       "Name: no_show, dtype: float64"
      ]
     },
     "execution_count": 13,
     "metadata": {},
     "output_type": "execute_result"
    }
   ],
   "source": [
    "# As most of the columns seem to have only 1 null value, it could be from the same row, check row number for null value of no_show\n",
    "df.loc[df['no_show'].isnull(),'no_show']"
   ]
  },
  {
   "cell_type": "code",
   "execution_count": 14,
   "id": "7a15b345",
   "metadata": {},
   "outputs": [
    {
     "data": {
      "text/plain": [
       "no_show            NaN\n",
       "branch            None\n",
       "booking_month     None\n",
       "arrival_month     None\n",
       "arrival_day        NaN\n",
       "checkout_month    None\n",
       "checkout_day       NaN\n",
       "country           None\n",
       "first_time        None\n",
       "room              None\n",
       "price             None\n",
       "platform          None\n",
       "num_adults        None\n",
       "num_children       NaN\n",
       "Name: 115536, dtype: object"
      ]
     },
     "execution_count": 14,
     "metadata": {},
     "output_type": "execute_result"
    }
   ],
   "source": [
    "# Investigate row 115536\n",
    "df.iloc[115536]"
   ]
  },
  {
   "cell_type": "code",
   "execution_count": 15,
   "id": "6c96d1fb",
   "metadata": {},
   "outputs": [],
   "source": [
    "# Indeed, all the null value comes from row 115536, hence this row shall be removed\n",
    "df.drop(115536, axis = 0, inplace = True)\n",
    "# Reset index of the dataset after dropping row\n",
    "df.reset_index(drop= True, inplace = True)"
   ]
  },
  {
   "cell_type": "code",
   "execution_count": 16,
   "id": "ba51697f",
   "metadata": {},
   "outputs": [
    {
     "name": "stdout",
     "output_type": "stream",
     "text": [
      "<class 'pandas.core.frame.DataFrame'>\n",
      "RangeIndex: 119390 entries, 0 to 119389\n",
      "Data columns (total 14 columns):\n",
      " #   Column          Non-Null Count   Dtype  \n",
      "---  ------          --------------   -----  \n",
      " 0   no_show         119390 non-null  float64\n",
      " 1   branch          119390 non-null  object \n",
      " 2   booking_month   119390 non-null  object \n",
      " 3   arrival_month   119390 non-null  object \n",
      " 4   arrival_day     119390 non-null  float64\n",
      " 5   checkout_month  119390 non-null  object \n",
      " 6   checkout_day    119390 non-null  float64\n",
      " 7   country         119390 non-null  object \n",
      " 8   first_time      119390 non-null  object \n",
      " 9   room            97778 non-null   object \n",
      " 10  price           94509 non-null   object \n",
      " 11  platform        119390 non-null  object \n",
      " 12  num_adults      119390 non-null  object \n",
      " 13  num_children    119390 non-null  float64\n",
      "dtypes: float64(4), object(10)\n",
      "memory usage: 12.8+ MB\n"
     ]
    }
   ],
   "source": [
    "df.info()"
   ]
  },
  {
   "cell_type": "markdown",
   "id": "a9094fed",
   "metadata": {},
   "source": [
    "Only Room and Price columns have missing values. Therefore, the missing values will be replaced by mode for Room and mean for Price. "
   ]
  },
  {
   "cell_type": "code",
   "execution_count": 17,
   "id": "0a50f95d",
   "metadata": {},
   "outputs": [
    {
     "name": "stdout",
     "output_type": "stream",
     "text": [
      "% of missing values in room: 18.102018594522153\n",
      "% of missing values in price: 20.840103861294914\n"
     ]
    }
   ],
   "source": [
    "# Finding out the percentage of missing values for Room and price \n",
    "print('% of missing values in room:', (df['room'].isnull().sum()/len(df))*100)\n",
    "print('% of missing values in price:', (df['price'].isnull().sum()/len(df))*100)"
   ]
  },
  {
   "cell_type": "code",
   "execution_count": 18,
   "id": "8ff3f11f",
   "metadata": {},
   "outputs": [],
   "source": [
    "# Fill in missing values for room column using Mode\n",
    "df['room'] = df['room'].fillna(df['room'].mode()[0])"
   ]
  },
  {
   "cell_type": "code",
   "execution_count": 19,
   "id": "31ad0066",
   "metadata": {},
   "outputs": [],
   "source": [
    "# Replace all null values with SGD$ 0 for price column \n",
    "df.loc[df['price'].isnull(), 'price'] = 'SGD$ 0'"
   ]
  },
  {
   "cell_type": "code",
   "execution_count": 20,
   "id": "cdb7d59b",
   "metadata": {},
   "outputs": [],
   "source": [
    "# Clean up price column - do currency conversion and remove all the dollar signs and commas\n",
    "# Using usd $1 = sgd $1.39 accurate as of 16th June 2022\n",
    "\n",
    "def price_convert (x):\n",
    "    if x is not np.nan:\n",
    "        x = str(x).split('$')\n",
    "        if x[0] == 'USD':\n",
    "            x[1] = float(x[1])*1.39\n",
    "        else:\n",
    "            x[1] = float(x[1])\n",
    "    \n",
    "    return x[1]"
   ]
  },
  {
   "cell_type": "code",
   "execution_count": 21,
   "id": "fb641dbc",
   "metadata": {},
   "outputs": [],
   "source": [
    "# Apply function to standardise the price in SGD for price column \n",
    "df['price'] = df['price'].apply(price_convert)"
   ]
  },
  {
   "cell_type": "code",
   "execution_count": 22,
   "id": "dabd9a4f",
   "metadata": {},
   "outputs": [],
   "source": [
    "# Replace price = 0.00 with mean for price column \n",
    "df.loc[df['price'] == 0, 'price'] = df['price'].mean()"
   ]
  },
  {
   "cell_type": "code",
   "execution_count": 23,
   "id": "91920dc8",
   "metadata": {},
   "outputs": [
    {
     "name": "stdout",
     "output_type": "stream",
     "text": [
      "<class 'pandas.core.frame.DataFrame'>\n",
      "RangeIndex: 119390 entries, 0 to 119389\n",
      "Data columns (total 14 columns):\n",
      " #   Column          Non-Null Count   Dtype  \n",
      "---  ------          --------------   -----  \n",
      " 0   no_show         119390 non-null  float64\n",
      " 1   branch          119390 non-null  object \n",
      " 2   booking_month   119390 non-null  object \n",
      " 3   arrival_month   119390 non-null  object \n",
      " 4   arrival_day     119390 non-null  float64\n",
      " 5   checkout_month  119390 non-null  object \n",
      " 6   checkout_day    119390 non-null  float64\n",
      " 7   country         119390 non-null  object \n",
      " 8   first_time      119390 non-null  object \n",
      " 9   room            119390 non-null  object \n",
      " 10  price           119390 non-null  float64\n",
      " 11  platform        119390 non-null  object \n",
      " 12  num_adults      119390 non-null  object \n",
      " 13  num_children    119390 non-null  float64\n",
      "dtypes: float64(5), object(9)\n",
      "memory usage: 12.8+ MB\n"
     ]
    }
   ],
   "source": [
    "# Check if there are any more null values in the dataframe\n",
    "df.info()"
   ]
  },
  {
   "cell_type": "markdown",
   "id": "986e9ab2",
   "metadata": {},
   "source": [
    "#### Check for duplicates "
   ]
  },
  {
   "cell_type": "code",
   "execution_count": 24,
   "id": "b1590d9a",
   "metadata": {},
   "outputs": [
    {
     "data": {
      "text/html": [
       "<div>\n",
       "<style scoped>\n",
       "    .dataframe tbody tr th:only-of-type {\n",
       "        vertical-align: middle;\n",
       "    }\n",
       "\n",
       "    .dataframe tbody tr th {\n",
       "        vertical-align: top;\n",
       "    }\n",
       "\n",
       "    .dataframe thead th {\n",
       "        text-align: right;\n",
       "    }\n",
       "</style>\n",
       "<table border=\"1\" class=\"dataframe\">\n",
       "  <thead>\n",
       "    <tr style=\"text-align: right;\">\n",
       "      <th></th>\n",
       "      <th>no_show</th>\n",
       "      <th>branch</th>\n",
       "      <th>booking_month</th>\n",
       "      <th>arrival_month</th>\n",
       "      <th>arrival_day</th>\n",
       "      <th>checkout_month</th>\n",
       "      <th>checkout_day</th>\n",
       "      <th>country</th>\n",
       "      <th>first_time</th>\n",
       "      <th>room</th>\n",
       "      <th>price</th>\n",
       "      <th>platform</th>\n",
       "      <th>num_adults</th>\n",
       "      <th>num_children</th>\n",
       "    </tr>\n",
       "  </thead>\n",
       "  <tbody>\n",
       "    <tr>\n",
       "      <th>6397</th>\n",
       "      <td>0.0</td>\n",
       "      <td>Orchard</td>\n",
       "      <td>December</td>\n",
       "      <td>February</td>\n",
       "      <td>12.0</td>\n",
       "      <td>February</td>\n",
       "      <td>14.0</td>\n",
       "      <td>China</td>\n",
       "      <td>Yes</td>\n",
       "      <td>Single</td>\n",
       "      <td>756.830346</td>\n",
       "      <td>Email</td>\n",
       "      <td>1</td>\n",
       "      <td>1.0</td>\n",
       "    </tr>\n",
       "    <tr>\n",
       "      <th>7734</th>\n",
       "      <td>1.0</td>\n",
       "      <td>Changi</td>\n",
       "      <td>June</td>\n",
       "      <td>April</td>\n",
       "      <td>28.0</td>\n",
       "      <td>May</td>\n",
       "      <td>1.0</td>\n",
       "      <td>China</td>\n",
       "      <td>Yes</td>\n",
       "      <td>King</td>\n",
       "      <td>756.830346</td>\n",
       "      <td>Website</td>\n",
       "      <td>2</td>\n",
       "      <td>2.0</td>\n",
       "    </tr>\n",
       "    <tr>\n",
       "      <th>8497</th>\n",
       "      <td>1.0</td>\n",
       "      <td>Changi</td>\n",
       "      <td>October</td>\n",
       "      <td>March</td>\n",
       "      <td>25.0</td>\n",
       "      <td>March</td>\n",
       "      <td>26.0</td>\n",
       "      <td>China</td>\n",
       "      <td>Yes</td>\n",
       "      <td>King</td>\n",
       "      <td>756.830346</td>\n",
       "      <td>Website</td>\n",
       "      <td>1</td>\n",
       "      <td>0.0</td>\n",
       "    </tr>\n",
       "    <tr>\n",
       "      <th>9378</th>\n",
       "      <td>1.0</td>\n",
       "      <td>Changi</td>\n",
       "      <td>May</td>\n",
       "      <td>August</td>\n",
       "      <td>14.0</td>\n",
       "      <td>August</td>\n",
       "      <td>16.0</td>\n",
       "      <td>China</td>\n",
       "      <td>Yes</td>\n",
       "      <td>King</td>\n",
       "      <td>756.830346</td>\n",
       "      <td>Website</td>\n",
       "      <td>1</td>\n",
       "      <td>2.0</td>\n",
       "    </tr>\n",
       "    <tr>\n",
       "      <th>10080</th>\n",
       "      <td>0.0</td>\n",
       "      <td>Orchard</td>\n",
       "      <td>May</td>\n",
       "      <td>July</td>\n",
       "      <td>21.0</td>\n",
       "      <td>July</td>\n",
       "      <td>23.0</td>\n",
       "      <td>Japan</td>\n",
       "      <td>Yes</td>\n",
       "      <td>Single</td>\n",
       "      <td>756.830346</td>\n",
       "      <td>Website</td>\n",
       "      <td>1</td>\n",
       "      <td>1.0</td>\n",
       "    </tr>\n",
       "    <tr>\n",
       "      <th>...</th>\n",
       "      <td>...</td>\n",
       "      <td>...</td>\n",
       "      <td>...</td>\n",
       "      <td>...</td>\n",
       "      <td>...</td>\n",
       "      <td>...</td>\n",
       "      <td>...</td>\n",
       "      <td>...</td>\n",
       "      <td>...</td>\n",
       "      <td>...</td>\n",
       "      <td>...</td>\n",
       "      <td>...</td>\n",
       "      <td>...</td>\n",
       "      <td>...</td>\n",
       "    </tr>\n",
       "    <tr>\n",
       "      <th>118719</th>\n",
       "      <td>1.0</td>\n",
       "      <td>Changi</td>\n",
       "      <td>November</td>\n",
       "      <td>June</td>\n",
       "      <td>5.0</td>\n",
       "      <td>June</td>\n",
       "      <td>7.0</td>\n",
       "      <td>China</td>\n",
       "      <td>Yes</td>\n",
       "      <td>King</td>\n",
       "      <td>756.830346</td>\n",
       "      <td>Website</td>\n",
       "      <td>2</td>\n",
       "      <td>0.0</td>\n",
       "    </tr>\n",
       "    <tr>\n",
       "      <th>119229</th>\n",
       "      <td>1.0</td>\n",
       "      <td>Changi</td>\n",
       "      <td>August</td>\n",
       "      <td>May</td>\n",
       "      <td>19.0</td>\n",
       "      <td>May</td>\n",
       "      <td>21.0</td>\n",
       "      <td>China</td>\n",
       "      <td>Yes</td>\n",
       "      <td>King</td>\n",
       "      <td>756.830346</td>\n",
       "      <td>Website</td>\n",
       "      <td>2</td>\n",
       "      <td>2.0</td>\n",
       "    </tr>\n",
       "    <tr>\n",
       "      <th>119275</th>\n",
       "      <td>0.0</td>\n",
       "      <td>Changi</td>\n",
       "      <td>February</td>\n",
       "      <td>August</td>\n",
       "      <td>22.0</td>\n",
       "      <td>August</td>\n",
       "      <td>24.0</td>\n",
       "      <td>Malaysia</td>\n",
       "      <td>Yes</td>\n",
       "      <td>King</td>\n",
       "      <td>756.830346</td>\n",
       "      <td>Website</td>\n",
       "      <td>1</td>\n",
       "      <td>1.0</td>\n",
       "    </tr>\n",
       "    <tr>\n",
       "      <th>119317</th>\n",
       "      <td>0.0</td>\n",
       "      <td>Orchard</td>\n",
       "      <td>July</td>\n",
       "      <td>August</td>\n",
       "      <td>16.0</td>\n",
       "      <td>August</td>\n",
       "      <td>17.0</td>\n",
       "      <td>China</td>\n",
       "      <td>Yes</td>\n",
       "      <td>King</td>\n",
       "      <td>756.830346</td>\n",
       "      <td>Email</td>\n",
       "      <td>1</td>\n",
       "      <td>2.0</td>\n",
       "    </tr>\n",
       "    <tr>\n",
       "      <th>119350</th>\n",
       "      <td>1.0</td>\n",
       "      <td>Orchard</td>\n",
       "      <td>August</td>\n",
       "      <td>March</td>\n",
       "      <td>27.0</td>\n",
       "      <td>March</td>\n",
       "      <td>28.0</td>\n",
       "      <td>China</td>\n",
       "      <td>Yes</td>\n",
       "      <td>Single</td>\n",
       "      <td>756.830346</td>\n",
       "      <td>Website</td>\n",
       "      <td>1</td>\n",
       "      <td>1.0</td>\n",
       "    </tr>\n",
       "  </tbody>\n",
       "</table>\n",
       "<p>814 rows × 14 columns</p>\n",
       "</div>"
      ],
      "text/plain": [
       "        no_show   branch booking_month arrival_month  arrival_day  \\\n",
       "6397        0.0  Orchard      December      February         12.0   \n",
       "7734        1.0   Changi          June         April         28.0   \n",
       "8497        1.0   Changi       October         March         25.0   \n",
       "9378        1.0   Changi           May        August         14.0   \n",
       "10080       0.0  Orchard           May          July         21.0   \n",
       "...         ...      ...           ...           ...          ...   \n",
       "118719      1.0   Changi      November          June          5.0   \n",
       "119229      1.0   Changi        August           May         19.0   \n",
       "119275      0.0   Changi      February        August         22.0   \n",
       "119317      0.0  Orchard          July        August         16.0   \n",
       "119350      1.0  Orchard        August         March         27.0   \n",
       "\n",
       "       checkout_month  checkout_day   country first_time    room       price  \\\n",
       "6397         February          14.0     China        Yes  Single  756.830346   \n",
       "7734              May           1.0     China        Yes    King  756.830346   \n",
       "8497            March          26.0     China        Yes    King  756.830346   \n",
       "9378           August          16.0     China        Yes    King  756.830346   \n",
       "10080            July          23.0     Japan        Yes  Single  756.830346   \n",
       "...               ...           ...       ...        ...     ...         ...   \n",
       "118719           June           7.0     China        Yes    King  756.830346   \n",
       "119229            May          21.0     China        Yes    King  756.830346   \n",
       "119275         August          24.0  Malaysia        Yes    King  756.830346   \n",
       "119317         August          17.0     China        Yes    King  756.830346   \n",
       "119350          March          28.0     China        Yes  Single  756.830346   \n",
       "\n",
       "       platform num_adults  num_children  \n",
       "6397      Email          1           1.0  \n",
       "7734    Website          2           2.0  \n",
       "8497    Website          1           0.0  \n",
       "9378    Website          1           2.0  \n",
       "10080   Website          1           1.0  \n",
       "...         ...        ...           ...  \n",
       "118719  Website          2           0.0  \n",
       "119229  Website          2           2.0  \n",
       "119275  Website          1           1.0  \n",
       "119317    Email          1           2.0  \n",
       "119350  Website          1           1.0  \n",
       "\n",
       "[814 rows x 14 columns]"
      ]
     },
     "execution_count": 24,
     "metadata": {},
     "output_type": "execute_result"
    }
   ],
   "source": [
    "duplicate = df[df.duplicated()]\n",
    "duplicate"
   ]
  },
  {
   "cell_type": "code",
   "execution_count": 25,
   "id": "b1111d7d",
   "metadata": {},
   "outputs": [],
   "source": [
    "# Remove duplicates \n",
    "df.drop_duplicates(keep= 'first', inplace = True)"
   ]
  },
  {
   "cell_type": "code",
   "execution_count": 26,
   "id": "b06db686",
   "metadata": {},
   "outputs": [],
   "source": [
    "# Reset index of the dataset after dropping row\n",
    "df.reset_index(drop= True, inplace = True)"
   ]
  },
  {
   "cell_type": "code",
   "execution_count": 27,
   "id": "860eb3ea",
   "metadata": {},
   "outputs": [
    {
     "name": "stdout",
     "output_type": "stream",
     "text": [
      "<class 'pandas.core.frame.DataFrame'>\n",
      "RangeIndex: 118576 entries, 0 to 118575\n",
      "Data columns (total 14 columns):\n",
      " #   Column          Non-Null Count   Dtype  \n",
      "---  ------          --------------   -----  \n",
      " 0   no_show         118576 non-null  float64\n",
      " 1   branch          118576 non-null  object \n",
      " 2   booking_month   118576 non-null  object \n",
      " 3   arrival_month   118576 non-null  object \n",
      " 4   arrival_day     118576 non-null  float64\n",
      " 5   checkout_month  118576 non-null  object \n",
      " 6   checkout_day    118576 non-null  float64\n",
      " 7   country         118576 non-null  object \n",
      " 8   first_time      118576 non-null  object \n",
      " 9   room            118576 non-null  object \n",
      " 10  price           118576 non-null  float64\n",
      " 11  platform        118576 non-null  object \n",
      " 12  num_adults      118576 non-null  object \n",
      " 13  num_children    118576 non-null  float64\n",
      "dtypes: float64(5), object(9)\n",
      "memory usage: 12.7+ MB\n"
     ]
    }
   ],
   "source": [
    "# Double check if data is properly cleaned - with no null values and duplicates removed \n",
    "df.info()"
   ]
  },
  {
   "cell_type": "markdown",
   "id": "ed47271b",
   "metadata": {},
   "source": [
    "## Data Cleaning for each columns (when necessary)"
   ]
  },
  {
   "cell_type": "markdown",
   "id": "d03ff39a",
   "metadata": {},
   "source": [
    "#### 1. no_show"
   ]
  },
  {
   "cell_type": "code",
   "execution_count": 28,
   "id": "466db7f7",
   "metadata": {},
   "outputs": [],
   "source": [
    "# Change datatype to integer\n",
    "df['no_show'] = df['no_show'].astype(int)\n"
   ]
  },
  {
   "cell_type": "markdown",
   "id": "780e0056",
   "metadata": {},
   "source": [
    "#### 2. booking_month"
   ]
  },
  {
   "cell_type": "code",
   "execution_count": 29,
   "id": "2e8b1d50",
   "metadata": {},
   "outputs": [],
   "source": [
    "# Create custom ordering for the column booking_month\n",
    "df['booking_month'] = df['booking_month'].str.lower()\n",
    "list_ordering1 = ['january', 'february', 'march', 'april', 'may', 'june', 'july', 'august', 'september', 'october', 'november', 'december']  \n",
    "df[\"booking_month\"] = pd.Categorical(df[\"booking_month\"], categories=list_ordering1) "
   ]
  },
  {
   "cell_type": "markdown",
   "id": "a00473cb",
   "metadata": {},
   "source": [
    "#### 3. arrival_month"
   ]
  },
  {
   "cell_type": "code",
   "execution_count": 30,
   "id": "64c8c6ea",
   "metadata": {},
   "outputs": [
    {
     "data": {
      "text/plain": [
       "array(['May', 'February', 'September', 'April', 'SepTember', 'March',\n",
       "       'June', 'January', 'July', 'October', 'December', 'November',\n",
       "       'August', 'AprIl', 'JulY', 'DecemBer', 'SEptember', 'FebruaRy',\n",
       "       'MarCh', 'JuNe', 'MAy', 'OCtober', 'OctOber', 'ApriL', 'NovEmber',\n",
       "       'NOvember', 'DEcember', 'SeptembeR', 'AugusT', 'JUly', 'JunE',\n",
       "       'MaY', 'NovembEr', 'FeBruary', 'ApRil', 'JuLy', 'NoVember',\n",
       "       'OcTober', 'SeptembEr', 'OctoBer', 'DecembeR', 'JUne', 'FEbruary',\n",
       "       'APril', 'DecembEr', 'MarcH', 'JanuarY', 'AuGust', 'MArch',\n",
       "       'SePtember', 'JanUary', 'AUgust', 'AuguSt', 'AugUst', 'MaRch',\n",
       "       'SeptEMber', 'FebrUary', 'FebruarY', 'DeceMber', 'OctobeR',\n",
       "       'NovemBer', 'SepteMber', 'JanuAry', 'OctobEr', 'JanuaRy',\n",
       "       'JaNuary', 'ApRiL', 'FeBruarY', 'FebRuary', 'JAnuary', 'FebruAry',\n",
       "       'SeptemBer', 'SeptEmber', 'NoveMber', 'DecEmber', 'DeCember',\n",
       "       'MAY', 'NovembeR', 'FeBruaRy', 'FebruaRY', 'JUnE', 'OCTober',\n",
       "       'NOveMber', 'NovemBeR', 'NOvEmber', 'FEbruarY', 'OcTobeR',\n",
       "       'DecEMber'], dtype=object)"
      ]
     },
     "execution_count": 30,
     "metadata": {},
     "output_type": "execute_result"
    }
   ],
   "source": [
    "df['arrival_month'].unique()"
   ]
  },
  {
   "cell_type": "code",
   "execution_count": 31,
   "id": "5b4e7c32",
   "metadata": {},
   "outputs": [],
   "source": [
    "# Convert all the months to lowercase \n",
    "df['arrival_month'] = df['arrival_month'].str.lower()"
   ]
  },
  {
   "cell_type": "code",
   "execution_count": 32,
   "id": "5d8038bf",
   "metadata": {},
   "outputs": [
    {
     "data": {
      "text/plain": [
       "array(['may', 'february', 'september', 'april', 'march', 'june',\n",
       "       'january', 'july', 'october', 'december', 'november', 'august'],\n",
       "      dtype=object)"
      ]
     },
     "execution_count": 32,
     "metadata": {},
     "output_type": "execute_result"
    }
   ],
   "source": [
    "df['arrival_month'].unique()"
   ]
  },
  {
   "cell_type": "code",
   "execution_count": 33,
   "id": "76d4d7e2",
   "metadata": {},
   "outputs": [],
   "source": [
    "# Create custom ordering for the column arrival_month\n",
    "df[\"arrival_month\"] = pd.Categorical(df[\"arrival_month\"], categories=list_ordering1) "
   ]
  },
  {
   "cell_type": "markdown",
   "id": "3bfbaa62",
   "metadata": {},
   "source": [
    "#### 4. arrival_day"
   ]
  },
  {
   "cell_type": "code",
   "execution_count": 34,
   "id": "a943ccc1",
   "metadata": {},
   "outputs": [],
   "source": [
    "# Convert datatype to integer \n",
    "df['arrival_day'] = df['arrival_day'].astype(int)"
   ]
  },
  {
   "cell_type": "code",
   "execution_count": 35,
   "id": "9dcaddf3",
   "metadata": {},
   "outputs": [],
   "source": [
    "# Convert datatype to str \n",
    "df['arrival_day'] = df['arrival_day'].astype(str)"
   ]
  },
  {
   "cell_type": "code",
   "execution_count": 36,
   "id": "d09b7dec",
   "metadata": {},
   "outputs": [
    {
     "data": {
      "text/plain": [
       "array(['19', '28', '22', '2', '7', '17', '4', '31', '14', '20', '24',\n",
       "       '15', '23', '25', '16', '12', '18', '27', '11', '1', '8', '6',\n",
       "       '30', '3', '10', '26', '13', '5', '21', '29', '9'], dtype=object)"
      ]
     },
     "execution_count": 36,
     "metadata": {},
     "output_type": "execute_result"
    }
   ],
   "source": [
    "df['arrival_day'].unique()"
   ]
  },
  {
   "cell_type": "code",
   "execution_count": 37,
   "id": "903bf886",
   "metadata": {},
   "outputs": [],
   "source": [
    "#Create custom ordering for the column arrival_day\n",
    "list_ordering2 = ['1', '2', '3', '4', '5', '6', '7', '8', '9', '10', '11', '12', '13', '14', '15', '16', '17', '18', '19', '20', '21', '22', '23', '24', '25', '26', '27', '28', '29', '30', '31']\n",
    "df[\"arrival_day\"] = pd.Categorical(df[\"arrival_day\"], categories=list_ordering2)"
   ]
  },
  {
   "cell_type": "markdown",
   "id": "608583c2",
   "metadata": {},
   "source": [
    "#### 5. check_out_month"
   ]
  },
  {
   "cell_type": "code",
   "execution_count": 38,
   "id": "b344222c",
   "metadata": {},
   "outputs": [
    {
     "data": {
      "text/plain": [
       "array(['May', 'March', 'September', 'February', 'April', 'June',\n",
       "       'January', 'July', 'October', 'December', 'November', 'August'],\n",
       "      dtype=object)"
      ]
     },
     "execution_count": 38,
     "metadata": {},
     "output_type": "execute_result"
    }
   ],
   "source": [
    "df['checkout_month'].unique()"
   ]
  },
  {
   "cell_type": "code",
   "execution_count": 39,
   "id": "3cf9e7f0",
   "metadata": {},
   "outputs": [],
   "source": [
    "# Convert all the months to lowercase \n",
    "df['checkout_month'] = df['checkout_month'].str.lower()"
   ]
  },
  {
   "cell_type": "code",
   "execution_count": 40,
   "id": "96ba9a2c",
   "metadata": {},
   "outputs": [],
   "source": [
    "df[\"checkout_month\"] = pd.Categorical(df[\"checkout_month\"], categories=list_ordering1) "
   ]
  },
  {
   "cell_type": "markdown",
   "id": "8d6dc24f",
   "metadata": {},
   "source": [
    "#### 6. checkout_day"
   ]
  },
  {
   "cell_type": "code",
   "execution_count": 41,
   "id": "8cc3ec88",
   "metadata": {},
   "outputs": [],
   "source": [
    "# Mod all values to remove the minus sign as it might be due to typo \n",
    "df['checkout_day'] = df['checkout_day'].abs()"
   ]
  },
  {
   "cell_type": "code",
   "execution_count": 42,
   "id": "9eedc147",
   "metadata": {},
   "outputs": [
    {
     "data": {
      "text/plain": [
       "array([20.,  4., 24.,  8., 19.,  6.,  2., 17., 22., 26.,  9.,  1., 15.,\n",
       "        3., 27., 18., 13., 29.,  5., 25., 10.,  7., 16., 30., 31., 11.,\n",
       "       28., 23., 14., 12., 21.])"
      ]
     },
     "execution_count": 42,
     "metadata": {},
     "output_type": "execute_result"
    }
   ],
   "source": [
    "df['checkout_day'].unique()"
   ]
  },
  {
   "cell_type": "code",
   "execution_count": 43,
   "id": "edcb6924",
   "metadata": {},
   "outputs": [],
   "source": [
    "df['checkout_day'] = df['checkout_day'].astype(int)\n",
    "df['checkout_day'] = df['checkout_day'].astype(str)"
   ]
  },
  {
   "cell_type": "code",
   "execution_count": 44,
   "id": "33245642",
   "metadata": {},
   "outputs": [],
   "source": [
    "#Create custom ordering for the column checkout_day\n",
    "df[\"checkout_day\"] = pd.Categorical(df[\"checkout_day\"], categories=list_ordering2)"
   ]
  },
  {
   "cell_type": "markdown",
   "id": "b2735b93",
   "metadata": {},
   "source": [
    "#### 7. num_adults"
   ]
  },
  {
   "cell_type": "code",
   "execution_count": 45,
   "id": "598b9f0f",
   "metadata": {},
   "outputs": [
    {
     "data": {
      "text/plain": [
       "array(['2', '1', 'one', 'two'], dtype=object)"
      ]
     },
     "execution_count": 45,
     "metadata": {},
     "output_type": "execute_result"
    }
   ],
   "source": [
    "df['num_adults'].unique()"
   ]
  },
  {
   "cell_type": "code",
   "execution_count": 46,
   "id": "1f054daa",
   "metadata": {},
   "outputs": [],
   "source": [
    "df.loc[df['num_adults']== 'one', 'num_adults'] = 1"
   ]
  },
  {
   "cell_type": "code",
   "execution_count": 47,
   "id": "19a915b1",
   "metadata": {},
   "outputs": [],
   "source": [
    "df.loc[df['num_adults']== 'two', 'num_adults'] = 2"
   ]
  },
  {
   "cell_type": "code",
   "execution_count": 48,
   "id": "3ea39d35",
   "metadata": {},
   "outputs": [],
   "source": [
    "# Convert datatype to str\n",
    "df['num_adults'] = df['num_adults'].astype(str)"
   ]
  },
  {
   "cell_type": "code",
   "execution_count": 49,
   "id": "7b1e7c73",
   "metadata": {},
   "outputs": [],
   "source": [
    "# Create custom ordering for the column num_adults\n",
    "list_ordering3 = ['1', '2']\n",
    "df[\"num_adults\"] = pd.Categorical(df[\"num_adults\"], categories=list_ordering3)"
   ]
  },
  {
   "cell_type": "markdown",
   "id": "21fdb228",
   "metadata": {},
   "source": [
    "#### 8. num_children"
   ]
  },
  {
   "cell_type": "code",
   "execution_count": 50,
   "id": "af598897",
   "metadata": {},
   "outputs": [],
   "source": [
    "# Convert datatype to string\n",
    "df['num_children'] = df['num_children'].astype(int)\n",
    "df['num_children'] = df['num_children'].astype(str)"
   ]
  },
  {
   "cell_type": "code",
   "execution_count": 51,
   "id": "8cd8ffa2",
   "metadata": {},
   "outputs": [],
   "source": [
    "# Create custom ordering for the column num_children\n",
    "list_ordering4 = ['0', '1', '2', '3']\n",
    "df[\"num_children\"] = pd.Categorical(df[\"num_children\"], categories=list_ordering4)"
   ]
  },
  {
   "cell_type": "code",
   "execution_count": 52,
   "id": "b03518af",
   "metadata": {},
   "outputs": [
    {
     "data": {
      "text/plain": [
       "1    45275\n",
       "0    44446\n",
       "2    28607\n",
       "3      248\n",
       "Name: num_children, dtype: int64"
      ]
     },
     "execution_count": 52,
     "metadata": {},
     "output_type": "execute_result"
    }
   ],
   "source": [
    "df['num_children'].value_counts()"
   ]
  },
  {
   "cell_type": "code",
   "execution_count": 53,
   "id": "3462e994",
   "metadata": {},
   "outputs": [
    {
     "name": "stdout",
     "output_type": "stream",
     "text": [
      "<class 'pandas.core.frame.DataFrame'>\n",
      "RangeIndex: 118576 entries, 0 to 118575\n",
      "Data columns (total 14 columns):\n",
      " #   Column          Non-Null Count   Dtype   \n",
      "---  ------          --------------   -----   \n",
      " 0   no_show         118576 non-null  int32   \n",
      " 1   branch          118576 non-null  object  \n",
      " 2   booking_month   118576 non-null  category\n",
      " 3   arrival_month   118576 non-null  category\n",
      " 4   arrival_day     118576 non-null  category\n",
      " 5   checkout_month  118576 non-null  category\n",
      " 6   checkout_day    118576 non-null  category\n",
      " 7   country         118576 non-null  object  \n",
      " 8   first_time      118576 non-null  object  \n",
      " 9   room            118576 non-null  object  \n",
      " 10  price           118576 non-null  float64 \n",
      " 11  platform        118576 non-null  object  \n",
      " 12  num_adults      118576 non-null  category\n",
      " 13  num_children    118576 non-null  category\n",
      "dtypes: category(7), float64(1), int32(1), object(5)\n",
      "memory usage: 6.7+ MB\n"
     ]
    }
   ],
   "source": [
    "df.info()"
   ]
  },
  {
   "cell_type": "markdown",
   "id": "a74353a4",
   "metadata": {},
   "source": [
    "## 4. Exploratory Data Analysis"
   ]
  },
  {
   "cell_type": "markdown",
   "id": "b9c9b381",
   "metadata": {},
   "source": [
    "#### a. Univariate Analysis\n",
    "\n",
    "In this section, it will address the question of how the various features vary with the outcome of no show and provide an overview of how the features interact with the outcome.\n",
    "In order to get meaningful results, a sub-dataset containing only the no show cases will be created and used for analysis."
   ]
  },
  {
   "cell_type": "code",
   "execution_count": 54,
   "id": "3fe99db3",
   "metadata": {},
   "outputs": [],
   "source": [
    "noshows = df.loc[df['no_show'] == 1] "
   ]
  },
  {
   "cell_type": "code",
   "execution_count": 67,
   "id": "b146dc9b",
   "metadata": {},
   "outputs": [
    {
     "data": {
      "image/png": "[encoded data removed]",
      "text/plain": [
       "<Figure size 432x288 with 1 Axes>"
      ]
     },
     "metadata": {},
     "output_type": "display_data"
    },
    {
     "name": "stdout",
     "output_type": "stream",
     "text": [
      "0    74875\n",
      "1    43701\n",
      "Name: no_show, dtype: int64\n",
      "weights 1.7133475206517013\n"
     ]
    }
   ],
   "source": [
    "# Check for class distribution \n",
    "df['no_show'].value_counts().plot(kind=\"bar\")\n",
    "plt.title(\"Distribution of Dataset\")\n",
    "plt.show()\n",
    "print(df['no_show'].value_counts())\n",
    "print('weights',df['no_show'].value_counts()[0]/df['no_show'].value_counts()[1])"
   ]
  },
  {
   "cell_type": "markdown",
   "id": "a3df73b1",
   "metadata": {},
   "source": [
    "As seen from the above plot, the dataset is moderately imbalanced with occurences of label 0 being 1.71 times more than the occurences of label 1. This issue will be addressed during the machine learning section. "
   ]
  },
  {
   "cell_type": "markdown",
   "id": "798e00c3",
   "metadata": {},
   "source": [
    "1. Continuous feature - Price"
   ]
  },
  {
   "cell_type": "code",
   "execution_count": 55,
   "id": "b9a3f37f",
   "metadata": {},
   "outputs": [
    {
     "data": {
      "text/plain": [
       "Text(0.5, 1.0, 'Distribution of Room Prices')"
      ]
     },
     "execution_count": 55,
     "metadata": {},
     "output_type": "execute_result"
    },
    {
     "data": {
      "image/png": "[encoded data removed]",
      "text/plain": [
       "<Figure size 864x432 with 1 Axes>"
      ]
     },
     "metadata": {},
     "output_type": "display_data"
    }
   ],
   "source": [
    "plt.figure(figsize = (12, 6))\n",
    "sns.histplot(x = 'price', data = df, palette = 'Set2', bins = 50).set_title('Distribution of Room Prices', fontsize = 18)\n",
    "#plt.xticks(rotation=90, fontsize = 12)"
   ]
  },
  {
   "cell_type": "code",
   "execution_count": 56,
   "id": "2ab7e339",
   "metadata": {},
   "outputs": [
    {
     "data": {
      "text/plain": [
       "Text(0.5, 1.0, 'Distribution of Room Prices')"
      ]
     },
     "execution_count": 56,
     "metadata": {},
     "output_type": "execute_result"
    },
    {
     "data": {
      "image/png": "[encoded data removed]",
      "text/plain": [
       "<Figure size 576x288 with 1 Axes>"
      ]
     },
     "metadata": {},
     "output_type": "display_data"
    }
   ],
   "source": [
    "plt.figure(figsize = (8,4))\n",
    "sns.boxplot(x = 'price', data = df, palette = 'Set2').set_title('Distribution of Room Prices', fontsize = 18)"
   ]
  },
  {
   "cell_type": "code",
   "execution_count": 57,
   "id": "f4736c16",
   "metadata": {},
   "outputs": [
    {
     "name": "stdout",
     "output_type": "stream",
     "text": [
      "% of price outliers: 14.00452030765079\n"
     ]
    }
   ],
   "source": [
    "# Find out the % of outliers in the dataset \n",
    "print('% of price outliers:', (len(df.loc[df['price']> 1250, 'price'])/len(df))*100)"
   ]
  },
  {
   "cell_type": "markdown",
   "id": "4d278573",
   "metadata": {},
   "source": [
    "As seen from the boxplot above, there are quite a substantial number of outliers (14%) in the price column. However, as hotel room prices can fluctuate during different seasons of the year ( e.g holidays and high demand), the high prices could be logical and a reflection of the reality. Therefore, we will not remove the outliers. Instead, log transformation will be applied later to the price column to see if it helps to make the price be normally distributed."
   ]
  },
  {
   "cell_type": "code",
   "execution_count": 59,
   "id": "baa8d5a6",
   "metadata": {},
   "outputs": [
    {
     "data": {
      "text/plain": [
       "Text(0.5, 1.0, 'Distribution of Room Prices for No Show Cases')"
      ]
     },
     "execution_count": 59,
     "metadata": {},
     "output_type": "execute_result"
    },
    {
     "data": {
      "image/png": "[encoded data removed]",
      "text/plain": [
       "<Figure size 576x288 with 1 Axes>"
      ]
     },
     "metadata": {},
     "output_type": "display_data"
    }
   ],
   "source": [
    "# Plotting boxplot for no show cases\n",
    "plt.figure(figsize = (8, 4))\n",
    "sns.boxplot(y = 'price', x = 'no_show', data = df, palette = 'Set2').set_title('Distribution of Room Prices for No Show Cases', fontsize = 18)"
   ]
  },
  {
   "cell_type": "markdown",
   "id": "ab50cd29",
   "metadata": {},
   "source": [
    "The price distribution for no show is similar to the overall distribution and the average price of the room is around $875. "
   ]
  },
  {
   "cell_type": "markdown",
   "id": "3a9fca7b",
   "metadata": {},
   "source": [
    "2. Categorical features"
   ]
  },
  {
   "cell_type": "code",
   "execution_count": 410,
   "id": "1edc7cb8",
   "metadata": {},
   "outputs": [
    {
     "data": {
      "text/plain": [
       "['no_show',\n",
       " 'branch',\n",
       " 'booking_month',\n",
       " 'arrival_month',\n",
       " 'arrival_day',\n",
       " 'checkout_month',\n",
       " 'checkout_day',\n",
       " 'country',\n",
       " 'first_time',\n",
       " 'room',\n",
       " 'platform',\n",
       " 'num_adults',\n",
       " 'num_children']"
      ]
     },
     "execution_count": 410,
     "metadata": {},
     "output_type": "execute_result"
    }
   ],
   "source": [
    "# Sieve out all categorical features based on the number of unique values\n",
    "categorical = []\n",
    "for col in df.columns: \n",
    "    if df[col].nunique() < 100:\n",
    "        categorical.append(col)\n",
    "categorical"
   ]
  },
  {
   "cell_type": "markdown",
   "id": "910564a7",
   "metadata": {},
   "source": [
    "Exploring how the categorical features vary for no show cases"
   ]
  },
  {
   "cell_type": "code",
   "execution_count": 411,
   "id": "4f52afaa",
   "metadata": {},
   "outputs": [
    {
     "data": {
      "image/png": "[encoded data removed]",
      "text/plain": [
       "<Figure size 720x3744 with 13 Axes>"
      ]
     },
     "metadata": {},
     "output_type": "display_data"
    }
   ],
   "source": [
    "# Create a For loop to visualise countplots for all categorical features\n",
    "n=len(categorical)\n",
    "fig,ax = plt.subplots(n ,1, figsize=(10,n*4))\n",
    "\n",
    "for i in range(n):\n",
    "    plt.sca(ax[i])  #Set the current Axes to ax and the current Figure to the parent of ax\n",
    "    col = categorical[i]\n",
    "    sns.countplot(x=col, data= noshows, palette = 'Set2')\n",
    "    \n",
    "    fig.suptitle ('Countplots of Categorical Features', fontsize = 20)\n",
    "    \n",
    "    plt.tight_layout(rect=[0, 0.03, 1, 0.98])"
   ]
  },
  {
   "cell_type": "markdown",
   "id": "4b16b213",
   "metadata": {},
   "source": [
    "From the plots above, there are several interesting trends that can be observed. \n",
    "1. Majority of the no show cases are from Changi hotel branch.\n",
    "2. No shows are slightly higher in booking months of June, July and September\n",
    "3. No shows are the highest during the arrival months of May to August and this seems to be in line with the summer season of the year.\n",
    "4. No shows mainly falls within checkout months of April to October.\n",
    "5. A significant number of no shows were visitors from China. \n",
    "6. Large majority of no shows are from visitors who booked the room at the hotel for the first time and from those who booked a king sized room \n",
    "7. Most of the no shows are from visitors who booked a room through websites or emails. Perhaps websites and emails are the most convenient way to book a hotel room and there are a large number of bookings through websites and emails, thus the no show rate through thes eplatforms might be higher as well. \n",
    "8. No shows tend to be slightly higher for 1 adult and those with 0 or 1 child.\n",
    "\n",
    "\n",
    "Insights: \n",
    "- It seems like there are more no show cases in the summer months such as May-August, irregardless of whether it is a booking month, arrival month or checkout month. These might be a period where it is the travelling peak during the summer holidays. Higher rates of booking/arrival/checkouts during this period may also naturally lead to higher probability of getting no show cases. \n",
    "\n",
    "- Most of the no show cases come from Changi Branch and there might be a few reasons which influence the no show rate.\n",
    "    - The appeal of Changi branch might not be as strong, thus vistors who subsequently found better hotels might not be interested. \n",
    "    - Changi branch might impose lesser penalties/ less strict in cancellation and no show policies.\n",
    "    - Exploration on the difference between these two branches can explored further in the next section. \n",
    "\n",
    "\n",
    "- Hypothesis - The lower the room price is , the higher the tendency for vistors to do a no show\n",
    "    - Since most of the no shows are from visitors who booked a room through websites or emails, more can be explored on whether hotel prices differs between these platforms and cheaper hotel rooms might make it easier for visitors to forego the room and do a no show.\n",
    "\n",
    "    - Since a large majority of no shows come from China, it might be a good idea to explore the differences in the room prices across countries to see if prices do affect the number of no shows. \n",
    "\n",
    "    - It will also be interesting to see how prices vary across room types. Logically, king-sized rooms are more expensive, but the no show cases for king sized rooms are the highest. \n",
    "\n",
    "    - How does price vary for a person who booked the first time and a person who booked a room multiple times? "
   ]
  },
  {
   "cell_type": "markdown",
   "id": "3e304d7c",
   "metadata": {},
   "source": [
    "#### (b) Bi-variate and Multi-variate Analysis"
   ]
  },
  {
   "cell_type": "markdown",
   "id": "90ad86e4",
   "metadata": {},
   "source": [
    "In this section, it will address the exploration areas uncovered by the univariate analysis. \n",
    "The hypothesis in which the analysis will based on: \n",
    "    - The lower the room price is , the higher the tendency for vistors to do a no show\n",
    "\n",
    "Some guiding questions uncovered from the insights of univariate analysis:\n",
    "\n",
    "1. Do the price differ for Changi and Orchard branch? \n",
    "\n",
    "2. Since most of the no shows are from visitors who booked a room through websites or emails, more can be explored on whether hotel prices differs between these platforms and cheaper hotel rooms might make it easier for visitors to forego the room and do a no show.\n",
    "\n",
    "3. Since a large majority of no shows come from China, it might be a good idea to explore the differences in the room prices across countries to see if prices do affect the number of no shows. \n",
    "\n",
    "4. It will also be interesting to see how prices vary across room types. Logically, king-sized rooms are more expensive, but the no show cases for king sized rooms are the highest. \n",
    "\n",
    "5. How does price vary for a person who booked the first time and a person who booked a room multiple times? \n",
    "\n"
   ]
  },
  {
   "cell_type": "markdown",
   "id": "8c88bce0",
   "metadata": {},
   "source": [
    "1. Do the price differ for Changi and Orchard branch? "
   ]
  },
  {
   "cell_type": "code",
   "execution_count": 412,
   "id": "2ddfb420",
   "metadata": {},
   "outputs": [
    {
     "data": {
      "text/plain": [
       "Text(0.5, 1.0, 'Distribution of Room Prices for No Show Cases across Branches')"
      ]
     },
     "execution_count": 412,
     "metadata": {},
     "output_type": "execute_result"
    },
    {
     "data": {
      "image/png": "[encoded data removed]",
      "text/plain": [
       "<Figure size 720x432 with 1 Axes>"
      ]
     },
     "metadata": {},
     "output_type": "display_data"
    }
   ],
   "source": [
    " #Plotting boxplots for price for no show cases across branches\n",
    "plt.figure(figsize = (10, 6))\n",
    "sns.boxplot(x = 'branch', y = 'price', data = noshows, palette = 'Set2').set_title('Distribution of Room Prices for No Show Cases across Branches', fontsize = 18)"
   ]
  },
  {
   "cell_type": "markdown",
   "id": "0ee8e1bc",
   "metadata": {},
   "source": [
    "Indeed, the room prices for Changi is so much lower than the orchard branch. The low price might make it easier for visitors to forego the room and do a no show. It could also be due to the location of the hotel, as the changi branch not located in the city center, thus making it less appealing and convenient compared to the Orchard branch. This might affect the decision of the visitors to do a no show as well. "
   ]
  },
  {
   "cell_type": "code",
   "execution_count": 413,
   "id": "defa1930",
   "metadata": {},
   "outputs": [
    {
     "data": {
      "text/html": [
       "<div>\n",
       "<style scoped>\n",
       "    .dataframe tbody tr th:only-of-type {\n",
       "        vertical-align: middle;\n",
       "    }\n",
       "\n",
       "    .dataframe tbody tr th {\n",
       "        vertical-align: top;\n",
       "    }\n",
       "\n",
       "    .dataframe thead th {\n",
       "        text-align: right;\n",
       "    }\n",
       "</style>\n",
       "<table border=\"1\" class=\"dataframe\">\n",
       "  <thead>\n",
       "    <tr style=\"text-align: right;\">\n",
       "      <th></th>\n",
       "      <th>no_show</th>\n",
       "      <th>branch</th>\n",
       "      <th>booking_month</th>\n",
       "      <th>arrival_month</th>\n",
       "      <th>arrival_day</th>\n",
       "      <th>checkout_month</th>\n",
       "      <th>checkout_day</th>\n",
       "      <th>country</th>\n",
       "      <th>first_time</th>\n",
       "      <th>room</th>\n",
       "      <th>price</th>\n",
       "      <th>platform</th>\n",
       "      <th>num_adults</th>\n",
       "      <th>num_children</th>\n",
       "    </tr>\n",
       "  </thead>\n",
       "  <tbody>\n",
       "    <tr>\n",
       "      <th>0</th>\n",
       "      <td>1</td>\n",
       "      <td>Changi</td>\n",
       "      <td>july</td>\n",
       "      <td>may</td>\n",
       "      <td>19</td>\n",
       "      <td>may</td>\n",
       "      <td>20</td>\n",
       "      <td>China</td>\n",
       "      <td>Yes</td>\n",
       "      <td>King</td>\n",
       "      <td>756.830346</td>\n",
       "      <td>Email</td>\n",
       "      <td>2</td>\n",
       "      <td>1</td>\n",
       "    </tr>\n",
       "    <tr>\n",
       "      <th>7</th>\n",
       "      <td>1</td>\n",
       "      <td>Changi</td>\n",
       "      <td>december</td>\n",
       "      <td>march</td>\n",
       "      <td>31</td>\n",
       "      <td>april</td>\n",
       "      <td>2</td>\n",
       "      <td>China</td>\n",
       "      <td>Yes</td>\n",
       "      <td>King</td>\n",
       "      <td>924.892100</td>\n",
       "      <td>Website</td>\n",
       "      <td>2</td>\n",
       "      <td>0</td>\n",
       "    </tr>\n",
       "    <tr>\n",
       "      <th>8</th>\n",
       "      <td>1</td>\n",
       "      <td>Changi</td>\n",
       "      <td>july</td>\n",
       "      <td>june</td>\n",
       "      <td>14</td>\n",
       "      <td>june</td>\n",
       "      <td>17</td>\n",
       "      <td>China</td>\n",
       "      <td>Yes</td>\n",
       "      <td>King</td>\n",
       "      <td>973.319700</td>\n",
       "      <td>Website</td>\n",
       "      <td>1</td>\n",
       "      <td>2</td>\n",
       "    </tr>\n",
       "    <tr>\n",
       "      <th>12</th>\n",
       "      <td>1</td>\n",
       "      <td>Changi</td>\n",
       "      <td>january</td>\n",
       "      <td>september</td>\n",
       "      <td>22</td>\n",
       "      <td>september</td>\n",
       "      <td>24</td>\n",
       "      <td>China</td>\n",
       "      <td>Yes</td>\n",
       "      <td>King</td>\n",
       "      <td>859.110000</td>\n",
       "      <td>Email</td>\n",
       "      <td>2</td>\n",
       "      <td>2</td>\n",
       "    </tr>\n",
       "    <tr>\n",
       "      <th>13</th>\n",
       "      <td>1</td>\n",
       "      <td>Changi</td>\n",
       "      <td>august</td>\n",
       "      <td>july</td>\n",
       "      <td>2</td>\n",
       "      <td>july</td>\n",
       "      <td>4</td>\n",
       "      <td>Indonesia</td>\n",
       "      <td>Yes</td>\n",
       "      <td>King</td>\n",
       "      <td>874.615800</td>\n",
       "      <td>Agent</td>\n",
       "      <td>2</td>\n",
       "      <td>0</td>\n",
       "    </tr>\n",
       "  </tbody>\n",
       "</table>\n",
       "</div>"
      ],
      "text/plain": [
       "    no_show  branch booking_month arrival_month arrival_day checkout_month  \\\n",
       "0         1  Changi          july           may          19            may   \n",
       "7         1  Changi      december         march          31          april   \n",
       "8         1  Changi          july          june          14           june   \n",
       "12        1  Changi       january     september          22      september   \n",
       "13        1  Changi        august          july           2           july   \n",
       "\n",
       "   checkout_day    country first_time  room       price platform num_adults  \\\n",
       "0            20      China        Yes  King  756.830346    Email          2   \n",
       "7             2      China        Yes  King  924.892100  Website          2   \n",
       "8            17      China        Yes  King  973.319700  Website          1   \n",
       "12           24      China        Yes  King  859.110000    Email          2   \n",
       "13            4  Indonesia        Yes  King  874.615800    Agent          2   \n",
       "\n",
       "   num_children  \n",
       "0             1  \n",
       "7             0  \n",
       "8             2  \n",
       "12            2  \n",
       "13            0  "
      ]
     },
     "execution_count": 413,
     "metadata": {},
     "output_type": "execute_result"
    }
   ],
   "source": [
    "# filter out rows for Changi branch only\n",
    "changi = noshows.loc[noshows['branch'] == 'Changi']\n",
    "changi.head()"
   ]
  },
  {
   "cell_type": "markdown",
   "id": "07ff2272",
   "metadata": {},
   "source": [
    "Next, we explore the differences in the room prices across countries to see if prices do affect the number of no shows. Since China has the most number of no show cases, we should expect the prices to be the lowest across countries."
   ]
  },
  {
   "cell_type": "code",
   "execution_count": 414,
   "id": "073c67ba",
   "metadata": {},
   "outputs": [
    {
     "data": {
      "text/plain": [
       "<matplotlib.legend.Legend at 0x1e8a1e3ed60>"
      ]
     },
     "execution_count": 414,
     "metadata": {},
     "output_type": "execute_result"
    },
    {
     "data": {
      "image/png": "[encoded data removed]",
      "text/plain": [
       "<Figure size 1224x432 with 1 Axes>"
      ]
     },
     "metadata": {},
     "output_type": "display_data"
    }
   ],
   "source": [
    "# Find out how noshow visitors are booking rooms in Changi branch\n",
    "\n",
    "plt.figure(figsize = (17, 6))\n",
    "sns.boxplot(x = 'platform', y = 'price', data = changi, palette = 'Set2', hue = 'country').set_title(' Room Prices for No Show Cases across Platforms for Changi Branch', fontsize = 18)\n",
    "plt.legend(title = 'Country', loc='center left', bbox_to_anchor=(1, 0.5))"
   ]
  },
  {
   "cell_type": "markdown",
   "id": "94bd324d",
   "metadata": {},
   "source": [
    "It is quite interesting to note that prices for Changi branch are quite consistent across platforms and countries except China. Prices for visitors from China are higher compared to other countries. This deviates from the hypothesis that lower room prices will lead to higher no show cases. In this case, China had the highest room prices but yet the no show cases are the highest."
   ]
  },
  {
   "cell_type": "markdown",
   "id": "9c454bf4",
   "metadata": {},
   "source": [
    "Addressing the following questions:\n",
    "\n",
    "2. Since most of the no shows are from visitors who booked a room through websites or emails, more can be explored on whether hotel prices differs between these platforms. \n",
    "3. It will also be interesting to see how prices vary across room types. Logically, king-sized rooms are more expensive, but the no show cases for king sized rooms are the highest. "
   ]
  },
  {
   "cell_type": "code",
   "execution_count": 415,
   "id": "8dbecbc8",
   "metadata": {},
   "outputs": [
    {
     "data": {
      "text/plain": [
       "Text(0.5, 1.0, 'Distribution of Room Prices for No Show Cases across Room Types')"
      ]
     },
     "execution_count": 415,
     "metadata": {},
     "output_type": "execute_result"
    },
    {
     "data": {
      "image/png": "[encoded data removed]",
      "text/plain": [
       "<Figure size 1224x432 with 1 Axes>"
      ]
     },
     "metadata": {},
     "output_type": "display_data"
    }
   ],
   "source": [
    "plt.figure(figsize = (17, 6))\n",
    "sns.boxplot(x = 'room', y = 'price', data = noshows, palette = 'Set2', hue = 'platform').set_title('Distribution of Room Prices for No Show Cases across Room Types', fontsize = 18)"
   ]
  },
  {
   "cell_type": "markdown",
   "id": "73ccd832",
   "metadata": {},
   "source": [
    "Again, room prices across room types are consistent across platforms. However, although the room prices for president suite and king rooms are much higher, the no show cases for king sized rooms are significantly higher. This indicates that the room prices might not be a major influence on the no show cases"
   ]
  },
  {
   "cell_type": "markdown",
   "id": "6e74917f",
   "metadata": {},
   "source": [
    "5. How does price vary for a person who booked the first time and a person who booked a room multiple times? "
   ]
  },
  {
   "cell_type": "code",
   "execution_count": 416,
   "id": "e4a1641e",
   "metadata": {},
   "outputs": [
    {
     "data": {
      "text/plain": [
       "Text(0.5, 1.0, 'Average Room Price for First Time and Repeated Guests in No Show Cases')"
      ]
     },
     "execution_count": 416,
     "metadata": {},
     "output_type": "execute_result"
    },
    {
     "data": {
      "image/png": "[encoded data removed]",
      "text/plain": [
       "<Figure size 432x288 with 1 Axes>"
      ]
     },
     "metadata": {},
     "output_type": "display_data"
    }
   ],
   "source": [
    "# Finding out the average room price for first time guests and repeated guests \n",
    "noshows.groupby('first_time')['price'].mean().plot(kind = 'bar')\n",
    "plt.title('Average Room Price for First Time and Repeated Guests in No Show Cases', fontsize = 12)"
   ]
  },
  {
   "cell_type": "markdown",
   "id": "02cb58d8",
   "metadata": {},
   "source": [
    "The average room prices did not differ much from each other for first time and repeated guests. Therefore, price does not really play a major influence on whether visitors decide to do a no show case. "
   ]
  },
  {
   "cell_type": "markdown",
   "id": "0196d5dc",
   "metadata": {},
   "source": [
    "### Conclusion \n",
    "\n",
    "The hypothesis that lower room prices will lead to higher number of no show cases does not hold in this preliminary EDA. There might be several other factors that influence the no show cases. Some possible factors might be:\n",
    "\n",
    "1. Hotel might not be as appealing compared to other hotels. For example, the Changi branch's location is not great and people might change their mind and choose to book other hotels which have better location. \n",
    "\n",
    "2. The hotel might not have a strict no show or cancellation policy, which allows people to do a no show without being penalised heavily. As this affects the revenue of the hotel, the hotel should take this seriously and look into how the policies can be improved and deter more peopple from doing a no show. \n",
    "\n",
    "3. No show cases can be seasonal and more liekly to occur during the summer months, where demand for hotels can be higher due to summer holidays. With an increase in demand and booking, the hotel will also experience higher no show cases. \n",
    "\n",
    "4. It is interesting that most of the no shows come from visitors from china and first time guests. Perhaps the hotel should really look at their appeal to potential customers or customers from China especially. \n"
   ]
  },
  {
   "cell_type": "markdown",
   "id": "021f9af4",
   "metadata": {},
   "source": [
    "## 5. Feature Engineering"
   ]
  },
  {
   "cell_type": "markdown",
   "id": "802e2c6b",
   "metadata": {},
   "source": [
    "This section will perform necessary feature engineering for the features. As most of the features are categorical, encoding will need to be performed to convert the categorical features into numerical features to prepare the data for machine learning.  \n",
    "\n",
    "1. no_show - No encoding needed as it is already in numerical format \n",
    "2. branch - dummy encoding \n",
    "3. Booking month - frequency encoding \n",
    "4. Arrival month - frequency encoding \n",
    "5. arrival day - frequency encoding \n",
    "6. check out month - frequency encoding\n",
    "7. check out day - frequency encoding \n",
    "8. country - dummy encoding  \n",
    "9. first time - dummy encoding \n",
    "10. room type - dummy encoding \n",
    "11. price -  Might need log transformation to take care of outliers and make it normally distributed \n",
    "12. platform - dummy encoding\n",
    "13. num_adults - dummy encoding\n",
    "14. num_children - dummy encoding "
   ]
  },
  {
   "cell_type": "code",
   "execution_count": 417,
   "id": "d611ac5f",
   "metadata": {},
   "outputs": [
    {
     "name": "stdout",
     "output_type": "stream",
     "text": [
      "<class 'pandas.core.frame.DataFrame'>\n",
      "RangeIndex: 118576 entries, 0 to 118575\n",
      "Data columns (total 14 columns):\n",
      " #   Column          Non-Null Count   Dtype   \n",
      "---  ------          --------------   -----   \n",
      " 0   no_show         118576 non-null  int32   \n",
      " 1   branch          118576 non-null  object  \n",
      " 2   booking_month   118576 non-null  category\n",
      " 3   arrival_month   118576 non-null  category\n",
      " 4   arrival_day     118576 non-null  category\n",
      " 5   checkout_month  118576 non-null  category\n",
      " 6   checkout_day    118576 non-null  category\n",
      " 7   country         118576 non-null  object  \n",
      " 8   first_time      118576 non-null  object  \n",
      " 9   room            118576 non-null  object  \n",
      " 10  price           118576 non-null  float64 \n",
      " 11  platform        118576 non-null  object  \n",
      " 12  num_adults      118576 non-null  category\n",
      " 13  num_children    118576 non-null  category\n",
      "dtypes: category(7), float64(1), int32(1), object(5)\n",
      "memory usage: 6.7+ MB\n"
     ]
    }
   ],
   "source": [
    "df.info()"
   ]
  },
  {
   "cell_type": "markdown",
   "id": "a30e33e0",
   "metadata": {},
   "source": [
    "### (a) Get Dummies Encoding"
   ]
  },
  {
   "cell_type": "code",
   "execution_count": 418,
   "id": "acb5c38d",
   "metadata": {},
   "outputs": [],
   "source": [
    "# Define the list of columns to do get dummies encoding \n",
    "dummies= ['branch', 'country', 'first_time', 'room', 'platform', 'num_adults', 'num_children']"
   ]
  },
  {
   "cell_type": "code",
   "execution_count": 419,
   "id": "5455bc91",
   "metadata": {},
   "outputs": [
    {
     "data": {
      "text/html": [
       "<div>\n",
       "<style scoped>\n",
       "    .dataframe tbody tr th:only-of-type {\n",
       "        vertical-align: middle;\n",
       "    }\n",
       "\n",
       "    .dataframe tbody tr th {\n",
       "        vertical-align: top;\n",
       "    }\n",
       "\n",
       "    .dataframe thead th {\n",
       "        text-align: right;\n",
       "    }\n",
       "</style>\n",
       "<table border=\"1\" class=\"dataframe\">\n",
       "  <thead>\n",
       "    <tr style=\"text-align: right;\">\n",
       "      <th></th>\n",
       "      <th>branch_Orchard</th>\n",
       "      <th>country_China</th>\n",
       "      <th>country_India</th>\n",
       "      <th>country_Indonesia</th>\n",
       "      <th>country_Japan</th>\n",
       "      <th>country_Malaysia</th>\n",
       "      <th>country_Singapore</th>\n",
       "      <th>first_time_Yes</th>\n",
       "      <th>room_President Suite</th>\n",
       "      <th>room_Queen</th>\n",
       "      <th>room_Single</th>\n",
       "      <th>platform_Email</th>\n",
       "      <th>platform_Phone</th>\n",
       "      <th>platform_Website</th>\n",
       "      <th>num_adults_2</th>\n",
       "      <th>num_children_1</th>\n",
       "      <th>num_children_2</th>\n",
       "      <th>num_children_3</th>\n",
       "    </tr>\n",
       "  </thead>\n",
       "  <tbody>\n",
       "    <tr>\n",
       "      <th>0</th>\n",
       "      <td>0</td>\n",
       "      <td>1</td>\n",
       "      <td>0</td>\n",
       "      <td>0</td>\n",
       "      <td>0</td>\n",
       "      <td>0</td>\n",
       "      <td>0</td>\n",
       "      <td>1</td>\n",
       "      <td>0</td>\n",
       "      <td>0</td>\n",
       "      <td>0</td>\n",
       "      <td>1</td>\n",
       "      <td>0</td>\n",
       "      <td>0</td>\n",
       "      <td>1</td>\n",
       "      <td>1</td>\n",
       "      <td>0</td>\n",
       "      <td>0</td>\n",
       "    </tr>\n",
       "    <tr>\n",
       "      <th>1</th>\n",
       "      <td>1</td>\n",
       "      <td>0</td>\n",
       "      <td>1</td>\n",
       "      <td>0</td>\n",
       "      <td>0</td>\n",
       "      <td>0</td>\n",
       "      <td>0</td>\n",
       "      <td>1</td>\n",
       "      <td>0</td>\n",
       "      <td>0</td>\n",
       "      <td>0</td>\n",
       "      <td>1</td>\n",
       "      <td>0</td>\n",
       "      <td>0</td>\n",
       "      <td>0</td>\n",
       "      <td>0</td>\n",
       "      <td>0</td>\n",
       "      <td>0</td>\n",
       "    </tr>\n",
       "    <tr>\n",
       "      <th>2</th>\n",
       "      <td>1</td>\n",
       "      <td>0</td>\n",
       "      <td>0</td>\n",
       "      <td>0</td>\n",
       "      <td>0</td>\n",
       "      <td>0</td>\n",
       "      <td>0</td>\n",
       "      <td>1</td>\n",
       "      <td>0</td>\n",
       "      <td>0</td>\n",
       "      <td>1</td>\n",
       "      <td>0</td>\n",
       "      <td>0</td>\n",
       "      <td>1</td>\n",
       "      <td>0</td>\n",
       "      <td>0</td>\n",
       "      <td>0</td>\n",
       "      <td>0</td>\n",
       "    </tr>\n",
       "    <tr>\n",
       "      <th>3</th>\n",
       "      <td>1</td>\n",
       "      <td>1</td>\n",
       "      <td>0</td>\n",
       "      <td>0</td>\n",
       "      <td>0</td>\n",
       "      <td>0</td>\n",
       "      <td>0</td>\n",
       "      <td>1</td>\n",
       "      <td>0</td>\n",
       "      <td>0</td>\n",
       "      <td>0</td>\n",
       "      <td>0</td>\n",
       "      <td>0</td>\n",
       "      <td>0</td>\n",
       "      <td>0</td>\n",
       "      <td>1</td>\n",
       "      <td>0</td>\n",
       "      <td>0</td>\n",
       "    </tr>\n",
       "    <tr>\n",
       "      <th>4</th>\n",
       "      <td>1</td>\n",
       "      <td>1</td>\n",
       "      <td>0</td>\n",
       "      <td>0</td>\n",
       "      <td>0</td>\n",
       "      <td>0</td>\n",
       "      <td>0</td>\n",
       "      <td>1</td>\n",
       "      <td>0</td>\n",
       "      <td>0</td>\n",
       "      <td>0</td>\n",
       "      <td>0</td>\n",
       "      <td>0</td>\n",
       "      <td>1</td>\n",
       "      <td>0</td>\n",
       "      <td>0</td>\n",
       "      <td>1</td>\n",
       "      <td>0</td>\n",
       "    </tr>\n",
       "    <tr>\n",
       "      <th>...</th>\n",
       "      <td>...</td>\n",
       "      <td>...</td>\n",
       "      <td>...</td>\n",
       "      <td>...</td>\n",
       "      <td>...</td>\n",
       "      <td>...</td>\n",
       "      <td>...</td>\n",
       "      <td>...</td>\n",
       "      <td>...</td>\n",
       "      <td>...</td>\n",
       "      <td>...</td>\n",
       "      <td>...</td>\n",
       "      <td>...</td>\n",
       "      <td>...</td>\n",
       "      <td>...</td>\n",
       "      <td>...</td>\n",
       "      <td>...</td>\n",
       "      <td>...</td>\n",
       "    </tr>\n",
       "    <tr>\n",
       "      <th>118571</th>\n",
       "      <td>0</td>\n",
       "      <td>1</td>\n",
       "      <td>0</td>\n",
       "      <td>0</td>\n",
       "      <td>0</td>\n",
       "      <td>0</td>\n",
       "      <td>0</td>\n",
       "      <td>1</td>\n",
       "      <td>0</td>\n",
       "      <td>0</td>\n",
       "      <td>0</td>\n",
       "      <td>1</td>\n",
       "      <td>0</td>\n",
       "      <td>0</td>\n",
       "      <td>1</td>\n",
       "      <td>1</td>\n",
       "      <td>0</td>\n",
       "      <td>0</td>\n",
       "    </tr>\n",
       "    <tr>\n",
       "      <th>118572</th>\n",
       "      <td>0</td>\n",
       "      <td>0</td>\n",
       "      <td>0</td>\n",
       "      <td>1</td>\n",
       "      <td>0</td>\n",
       "      <td>0</td>\n",
       "      <td>0</td>\n",
       "      <td>1</td>\n",
       "      <td>0</td>\n",
       "      <td>0</td>\n",
       "      <td>0</td>\n",
       "      <td>1</td>\n",
       "      <td>0</td>\n",
       "      <td>0</td>\n",
       "      <td>0</td>\n",
       "      <td>1</td>\n",
       "      <td>0</td>\n",
       "      <td>0</td>\n",
       "    </tr>\n",
       "    <tr>\n",
       "      <th>118573</th>\n",
       "      <td>0</td>\n",
       "      <td>0</td>\n",
       "      <td>0</td>\n",
       "      <td>1</td>\n",
       "      <td>0</td>\n",
       "      <td>0</td>\n",
       "      <td>0</td>\n",
       "      <td>1</td>\n",
       "      <td>0</td>\n",
       "      <td>0</td>\n",
       "      <td>0</td>\n",
       "      <td>0</td>\n",
       "      <td>0</td>\n",
       "      <td>1</td>\n",
       "      <td>0</td>\n",
       "      <td>0</td>\n",
       "      <td>0</td>\n",
       "      <td>0</td>\n",
       "    </tr>\n",
       "    <tr>\n",
       "      <th>118574</th>\n",
       "      <td>0</td>\n",
       "      <td>0</td>\n",
       "      <td>0</td>\n",
       "      <td>1</td>\n",
       "      <td>0</td>\n",
       "      <td>0</td>\n",
       "      <td>0</td>\n",
       "      <td>1</td>\n",
       "      <td>0</td>\n",
       "      <td>0</td>\n",
       "      <td>0</td>\n",
       "      <td>1</td>\n",
       "      <td>0</td>\n",
       "      <td>0</td>\n",
       "      <td>0</td>\n",
       "      <td>1</td>\n",
       "      <td>0</td>\n",
       "      <td>0</td>\n",
       "    </tr>\n",
       "    <tr>\n",
       "      <th>118575</th>\n",
       "      <td>0</td>\n",
       "      <td>0</td>\n",
       "      <td>1</td>\n",
       "      <td>0</td>\n",
       "      <td>0</td>\n",
       "      <td>0</td>\n",
       "      <td>0</td>\n",
       "      <td>1</td>\n",
       "      <td>0</td>\n",
       "      <td>0</td>\n",
       "      <td>0</td>\n",
       "      <td>0</td>\n",
       "      <td>1</td>\n",
       "      <td>0</td>\n",
       "      <td>0</td>\n",
       "      <td>0</td>\n",
       "      <td>0</td>\n",
       "      <td>0</td>\n",
       "    </tr>\n",
       "  </tbody>\n",
       "</table>\n",
       "<p>118576 rows × 18 columns</p>\n",
       "</div>"
      ],
      "text/plain": [
       "        branch_Orchard  country_China  country_India  country_Indonesia  \\\n",
       "0                    0              1              0                  0   \n",
       "1                    1              0              1                  0   \n",
       "2                    1              0              0                  0   \n",
       "3                    1              1              0                  0   \n",
       "4                    1              1              0                  0   \n",
       "...                ...            ...            ...                ...   \n",
       "118571               0              1              0                  0   \n",
       "118572               0              0              0                  1   \n",
       "118573               0              0              0                  1   \n",
       "118574               0              0              0                  1   \n",
       "118575               0              0              1                  0   \n",
       "\n",
       "        country_Japan  country_Malaysia  country_Singapore  first_time_Yes  \\\n",
       "0                   0                 0                  0               1   \n",
       "1                   0                 0                  0               1   \n",
       "2                   0                 0                  0               1   \n",
       "3                   0                 0                  0               1   \n",
       "4                   0                 0                  0               1   \n",
       "...               ...               ...                ...             ...   \n",
       "118571              0                 0                  0               1   \n",
       "118572              0                 0                  0               1   \n",
       "118573              0                 0                  0               1   \n",
       "118574              0                 0                  0               1   \n",
       "118575              0                 0                  0               1   \n",
       "\n",
       "        room_President Suite  room_Queen  room_Single  platform_Email  \\\n",
       "0                          0           0            0               1   \n",
       "1                          0           0            0               1   \n",
       "2                          0           0            1               0   \n",
       "3                          0           0            0               0   \n",
       "4                          0           0            0               0   \n",
       "...                      ...         ...          ...             ...   \n",
       "118571                     0           0            0               1   \n",
       "118572                     0           0            0               1   \n",
       "118573                     0           0            0               0   \n",
       "118574                     0           0            0               1   \n",
       "118575                     0           0            0               0   \n",
       "\n",
       "        platform_Phone  platform_Website  num_adults_2  num_children_1  \\\n",
       "0                    0                 0             1               1   \n",
       "1                    0                 0             0               0   \n",
       "2                    0                 1             0               0   \n",
       "3                    0                 0             0               1   \n",
       "4                    0                 1             0               0   \n",
       "...                ...               ...           ...             ...   \n",
       "118571               0                 0             1               1   \n",
       "118572               0                 0             0               1   \n",
       "118573               0                 1             0               0   \n",
       "118574               0                 0             0               1   \n",
       "118575               1                 0             0               0   \n",
       "\n",
       "        num_children_2  num_children_3  \n",
       "0                    0               0  \n",
       "1                    0               0  \n",
       "2                    0               0  \n",
       "3                    0               0  \n",
       "4                    1               0  \n",
       "...                ...             ...  \n",
       "118571               0               0  \n",
       "118572               0               0  \n",
       "118573               0               0  \n",
       "118574               0               0  \n",
       "118575               0               0  \n",
       "\n",
       "[118576 rows x 18 columns]"
      ]
     },
     "execution_count": 419,
     "metadata": {},
     "output_type": "execute_result"
    }
   ],
   "source": [
    "dum = pd.get_dummies(df[dummies], drop_first=True, dtype= 'int64')\n",
    "dum"
   ]
  },
  {
   "cell_type": "code",
   "execution_count": 420,
   "id": "610e6b61",
   "metadata": {},
   "outputs": [],
   "source": [
    "# merge the dummies back to the original dataframe\n",
    "df1= pd.concat([df, dum], axis = 1)"
   ]
  },
  {
   "cell_type": "code",
   "execution_count": 421,
   "id": "cfabb7df",
   "metadata": {},
   "outputs": [],
   "source": [
    "# drop the columns that are not required anymore\n",
    "df1.drop(dummies,axis = 1, inplace = True)"
   ]
  },
  {
   "cell_type": "code",
   "execution_count": 422,
   "id": "6b26f93e",
   "metadata": {},
   "outputs": [
    {
     "data": {
      "text/html": [
       "<div>\n",
       "<style scoped>\n",
       "    .dataframe tbody tr th:only-of-type {\n",
       "        vertical-align: middle;\n",
       "    }\n",
       "\n",
       "    .dataframe tbody tr th {\n",
       "        vertical-align: top;\n",
       "    }\n",
       "\n",
       "    .dataframe thead th {\n",
       "        text-align: right;\n",
       "    }\n",
       "</style>\n",
       "<table border=\"1\" class=\"dataframe\">\n",
       "  <thead>\n",
       "    <tr style=\"text-align: right;\">\n",
       "      <th></th>\n",
       "      <th>no_show</th>\n",
       "      <th>booking_month</th>\n",
       "      <th>arrival_month</th>\n",
       "      <th>arrival_day</th>\n",
       "      <th>checkout_month</th>\n",
       "      <th>checkout_day</th>\n",
       "      <th>price</th>\n",
       "      <th>branch_Orchard</th>\n",
       "      <th>country_China</th>\n",
       "      <th>country_India</th>\n",
       "      <th>...</th>\n",
       "      <th>room_President Suite</th>\n",
       "      <th>room_Queen</th>\n",
       "      <th>room_Single</th>\n",
       "      <th>platform_Email</th>\n",
       "      <th>platform_Phone</th>\n",
       "      <th>platform_Website</th>\n",
       "      <th>num_adults_2</th>\n",
       "      <th>num_children_1</th>\n",
       "      <th>num_children_2</th>\n",
       "      <th>num_children_3</th>\n",
       "    </tr>\n",
       "  </thead>\n",
       "  <tbody>\n",
       "    <tr>\n",
       "      <th>0</th>\n",
       "      <td>1</td>\n",
       "      <td>july</td>\n",
       "      <td>may</td>\n",
       "      <td>19</td>\n",
       "      <td>may</td>\n",
       "      <td>20</td>\n",
       "      <td>756.830346</td>\n",
       "      <td>0</td>\n",
       "      <td>1</td>\n",
       "      <td>0</td>\n",
       "      <td>...</td>\n",
       "      <td>0</td>\n",
       "      <td>0</td>\n",
       "      <td>0</td>\n",
       "      <td>1</td>\n",
       "      <td>0</td>\n",
       "      <td>0</td>\n",
       "      <td>1</td>\n",
       "      <td>1</td>\n",
       "      <td>0</td>\n",
       "      <td>0</td>\n",
       "    </tr>\n",
       "    <tr>\n",
       "      <th>1</th>\n",
       "      <td>0</td>\n",
       "      <td>december</td>\n",
       "      <td>february</td>\n",
       "      <td>28</td>\n",
       "      <td>march</td>\n",
       "      <td>4</td>\n",
       "      <td>1005.442600</td>\n",
       "      <td>1</td>\n",
       "      <td>0</td>\n",
       "      <td>1</td>\n",
       "      <td>...</td>\n",
       "      <td>0</td>\n",
       "      <td>0</td>\n",
       "      <td>0</td>\n",
       "      <td>1</td>\n",
       "      <td>0</td>\n",
       "      <td>0</td>\n",
       "      <td>0</td>\n",
       "      <td>0</td>\n",
       "      <td>0</td>\n",
       "      <td>0</td>\n",
       "    </tr>\n",
       "    <tr>\n",
       "      <th>2</th>\n",
       "      <td>0</td>\n",
       "      <td>december</td>\n",
       "      <td>may</td>\n",
       "      <td>22</td>\n",
       "      <td>may</td>\n",
       "      <td>24</td>\n",
       "      <td>650.940000</td>\n",
       "      <td>1</td>\n",
       "      <td>0</td>\n",
       "      <td>0</td>\n",
       "      <td>...</td>\n",
       "      <td>0</td>\n",
       "      <td>0</td>\n",
       "      <td>1</td>\n",
       "      <td>0</td>\n",
       "      <td>0</td>\n",
       "      <td>1</td>\n",
       "      <td>0</td>\n",
       "      <td>0</td>\n",
       "      <td>0</td>\n",
       "      <td>0</td>\n",
       "    </tr>\n",
       "    <tr>\n",
       "      <th>3</th>\n",
       "      <td>0</td>\n",
       "      <td>october</td>\n",
       "      <td>september</td>\n",
       "      <td>2</td>\n",
       "      <td>september</td>\n",
       "      <td>4</td>\n",
       "      <td>978.670000</td>\n",
       "      <td>1</td>\n",
       "      <td>1</td>\n",
       "      <td>0</td>\n",
       "      <td>...</td>\n",
       "      <td>0</td>\n",
       "      <td>0</td>\n",
       "      <td>0</td>\n",
       "      <td>0</td>\n",
       "      <td>0</td>\n",
       "      <td>0</td>\n",
       "      <td>0</td>\n",
       "      <td>1</td>\n",
       "      <td>0</td>\n",
       "      <td>0</td>\n",
       "    </tr>\n",
       "    <tr>\n",
       "      <th>4</th>\n",
       "      <td>0</td>\n",
       "      <td>february</td>\n",
       "      <td>february</td>\n",
       "      <td>7</td>\n",
       "      <td>february</td>\n",
       "      <td>8</td>\n",
       "      <td>756.830346</td>\n",
       "      <td>1</td>\n",
       "      <td>1</td>\n",
       "      <td>0</td>\n",
       "      <td>...</td>\n",
       "      <td>0</td>\n",
       "      <td>0</td>\n",
       "      <td>0</td>\n",
       "      <td>0</td>\n",
       "      <td>0</td>\n",
       "      <td>1</td>\n",
       "      <td>0</td>\n",
       "      <td>0</td>\n",
       "      <td>1</td>\n",
       "      <td>0</td>\n",
       "    </tr>\n",
       "  </tbody>\n",
       "</table>\n",
       "<p>5 rows × 25 columns</p>\n",
       "</div>"
      ],
      "text/plain": [
       "   no_show booking_month arrival_month arrival_day checkout_month  \\\n",
       "0        1          july           may          19            may   \n",
       "1        0      december      february          28          march   \n",
       "2        0      december           may          22            may   \n",
       "3        0       october     september           2      september   \n",
       "4        0      february      february           7       february   \n",
       "\n",
       "  checkout_day        price  branch_Orchard  country_China  country_India  \\\n",
       "0           20   756.830346               0              1              0   \n",
       "1            4  1005.442600               1              0              1   \n",
       "2           24   650.940000               1              0              0   \n",
       "3            4   978.670000               1              1              0   \n",
       "4            8   756.830346               1              1              0   \n",
       "\n",
       "   ...  room_President Suite  room_Queen  room_Single  platform_Email  \\\n",
       "0  ...                     0           0            0               1   \n",
       "1  ...                     0           0            0               1   \n",
       "2  ...                     0           0            1               0   \n",
       "3  ...                     0           0            0               0   \n",
       "4  ...                     0           0            0               0   \n",
       "\n",
       "   platform_Phone  platform_Website  num_adults_2  num_children_1  \\\n",
       "0               0                 0             1               1   \n",
       "1               0                 0             0               0   \n",
       "2               0                 1             0               0   \n",
       "3               0                 0             0               1   \n",
       "4               0                 1             0               0   \n",
       "\n",
       "   num_children_2  num_children_3  \n",
       "0               0               0  \n",
       "1               0               0  \n",
       "2               0               0  \n",
       "3               0               0  \n",
       "4               1               0  \n",
       "\n",
       "[5 rows x 25 columns]"
      ]
     },
     "execution_count": 422,
     "metadata": {},
     "output_type": "execute_result"
    }
   ],
   "source": [
    "df1.head()"
   ]
  },
  {
   "cell_type": "markdown",
   "id": "e4e507be",
   "metadata": {},
   "source": [
    "### (b) Frequency Encoding"
   ]
  },
  {
   "cell_type": "code",
   "execution_count": 423,
   "id": "dc494b71",
   "metadata": {},
   "outputs": [],
   "source": [
    "# Create a list containing the columns to do frequency encoding \n",
    "freqlist = ['booking_month', 'arrival_month', 'arrival_day', 'checkout_month', 'checkout_day']"
   ]
  },
  {
   "cell_type": "code",
   "execution_count": 424,
   "id": "0ca83a0e",
   "metadata": {},
   "outputs": [],
   "source": [
    "#Create a function to calculate frequency for each category in the columns under freqlist and do frequency encoding for each column  \n",
    "df_fe = pd.DataFrame()\n",
    "def freqenc (freqlist, df):\n",
    "    for i in freqlist:\n",
    "        counts = df[i].value_counts()\n",
    "    # get frequency of each category\n",
    "        encoding = counts/len(df)\n",
    "    # map() maps the frequency of each category to each observation\n",
    "        df_fe[i] = df[i].map(encoding)\n",
    "        df_fe[i] = df_fe[i].astype(float)\n",
    "    df.drop(freqlist, axis = 1, inplace = True)  # Drop original columns \n",
    "    # Concat the results to the original dataframe \n",
    "    df= pd.concat([df, df_fe], axis = 1)\n",
    "    \n",
    "    return(df)"
   ]
  },
  {
   "cell_type": "code",
   "execution_count": 425,
   "id": "5b4555a8",
   "metadata": {},
   "outputs": [],
   "source": [
    "df1 = freqenc(freqlist, df1)"
   ]
  },
  {
   "cell_type": "code",
   "execution_count": 426,
   "id": "69de2bf0",
   "metadata": {},
   "outputs": [
    {
     "data": {
      "text/html": [
       "<div>\n",
       "<style scoped>\n",
       "    .dataframe tbody tr th:only-of-type {\n",
       "        vertical-align: middle;\n",
       "    }\n",
       "\n",
       "    .dataframe tbody tr th {\n",
       "        vertical-align: top;\n",
       "    }\n",
       "\n",
       "    .dataframe thead th {\n",
       "        text-align: right;\n",
       "    }\n",
       "</style>\n",
       "<table border=\"1\" class=\"dataframe\">\n",
       "  <thead>\n",
       "    <tr style=\"text-align: right;\">\n",
       "      <th></th>\n",
       "      <th>no_show</th>\n",
       "      <th>price</th>\n",
       "      <th>branch_Orchard</th>\n",
       "      <th>country_China</th>\n",
       "      <th>country_India</th>\n",
       "      <th>country_Indonesia</th>\n",
       "      <th>country_Japan</th>\n",
       "      <th>country_Malaysia</th>\n",
       "      <th>country_Singapore</th>\n",
       "      <th>first_time_Yes</th>\n",
       "      <th>...</th>\n",
       "      <th>platform_Website</th>\n",
       "      <th>num_adults_2</th>\n",
       "      <th>num_children_1</th>\n",
       "      <th>num_children_2</th>\n",
       "      <th>num_children_3</th>\n",
       "      <th>booking_month</th>\n",
       "      <th>arrival_month</th>\n",
       "      <th>arrival_day</th>\n",
       "      <th>checkout_month</th>\n",
       "      <th>checkout_day</th>\n",
       "    </tr>\n",
       "  </thead>\n",
       "  <tbody>\n",
       "    <tr>\n",
       "      <th>0</th>\n",
       "      <td>1</td>\n",
       "      <td>756.830346</td>\n",
       "      <td>0</td>\n",
       "      <td>1</td>\n",
       "      <td>0</td>\n",
       "      <td>0</td>\n",
       "      <td>0</td>\n",
       "      <td>0</td>\n",
       "      <td>0</td>\n",
       "      <td>1</td>\n",
       "      <td>...</td>\n",
       "      <td>0</td>\n",
       "      <td>1</td>\n",
       "      <td>1</td>\n",
       "      <td>0</td>\n",
       "      <td>0</td>\n",
       "      <td>0.083643</td>\n",
       "      <td>0.098713</td>\n",
       "      <td>0.033885</td>\n",
       "      <td>0.100821</td>\n",
       "      <td>0.037031</td>\n",
       "    </tr>\n",
       "    <tr>\n",
       "      <th>1</th>\n",
       "      <td>0</td>\n",
       "      <td>1005.442600</td>\n",
       "      <td>1</td>\n",
       "      <td>0</td>\n",
       "      <td>1</td>\n",
       "      <td>0</td>\n",
       "      <td>0</td>\n",
       "      <td>0</td>\n",
       "      <td>0</td>\n",
       "      <td>1</td>\n",
       "      <td>...</td>\n",
       "      <td>0</td>\n",
       "      <td>0</td>\n",
       "      <td>0</td>\n",
       "      <td>0</td>\n",
       "      <td>0</td>\n",
       "      <td>0.080067</td>\n",
       "      <td>0.067459</td>\n",
       "      <td>0.033067</td>\n",
       "      <td>0.079814</td>\n",
       "      <td>0.034940</td>\n",
       "    </tr>\n",
       "    <tr>\n",
       "      <th>2</th>\n",
       "      <td>0</td>\n",
       "      <td>650.940000</td>\n",
       "      <td>1</td>\n",
       "      <td>0</td>\n",
       "      <td>0</td>\n",
       "      <td>0</td>\n",
       "      <td>0</td>\n",
       "      <td>0</td>\n",
       "      <td>0</td>\n",
       "      <td>1</td>\n",
       "      <td>...</td>\n",
       "      <td>1</td>\n",
       "      <td>0</td>\n",
       "      <td>0</td>\n",
       "      <td>0</td>\n",
       "      <td>0</td>\n",
       "      <td>0.080067</td>\n",
       "      <td>0.098713</td>\n",
       "      <td>0.030149</td>\n",
       "      <td>0.100821</td>\n",
       "      <td>0.030757</td>\n",
       "    </tr>\n",
       "    <tr>\n",
       "      <th>3</th>\n",
       "      <td>0</td>\n",
       "      <td>978.670000</td>\n",
       "      <td>1</td>\n",
       "      <td>1</td>\n",
       "      <td>0</td>\n",
       "      <td>0</td>\n",
       "      <td>0</td>\n",
       "      <td>0</td>\n",
       "      <td>0</td>\n",
       "      <td>1</td>\n",
       "      <td>...</td>\n",
       "      <td>0</td>\n",
       "      <td>0</td>\n",
       "      <td>1</td>\n",
       "      <td>0</td>\n",
       "      <td>0</td>\n",
       "      <td>0.084275</td>\n",
       "      <td>0.087615</td>\n",
       "      <td>0.034012</td>\n",
       "      <td>0.086889</td>\n",
       "      <td>0.034940</td>\n",
       "    </tr>\n",
       "    <tr>\n",
       "      <th>4</th>\n",
       "      <td>0</td>\n",
       "      <td>756.830346</td>\n",
       "      <td>1</td>\n",
       "      <td>1</td>\n",
       "      <td>0</td>\n",
       "      <td>0</td>\n",
       "      <td>0</td>\n",
       "      <td>0</td>\n",
       "      <td>0</td>\n",
       "      <td>1</td>\n",
       "      <td>...</td>\n",
       "      <td>1</td>\n",
       "      <td>0</td>\n",
       "      <td>0</td>\n",
       "      <td>1</td>\n",
       "      <td>0</td>\n",
       "      <td>0.080421</td>\n",
       "      <td>0.067459</td>\n",
       "      <td>0.030630</td>\n",
       "      <td>0.064541</td>\n",
       "      <td>0.031102</td>\n",
       "    </tr>\n",
       "    <tr>\n",
       "      <th>...</th>\n",
       "      <td>...</td>\n",
       "      <td>...</td>\n",
       "      <td>...</td>\n",
       "      <td>...</td>\n",
       "      <td>...</td>\n",
       "      <td>...</td>\n",
       "      <td>...</td>\n",
       "      <td>...</td>\n",
       "      <td>...</td>\n",
       "      <td>...</td>\n",
       "      <td>...</td>\n",
       "      <td>...</td>\n",
       "      <td>...</td>\n",
       "      <td>...</td>\n",
       "      <td>...</td>\n",
       "      <td>...</td>\n",
       "      <td>...</td>\n",
       "      <td>...</td>\n",
       "      <td>...</td>\n",
       "      <td>...</td>\n",
       "      <td>...</td>\n",
       "    </tr>\n",
       "    <tr>\n",
       "      <th>118571</th>\n",
       "      <td>0</td>\n",
       "      <td>953.940000</td>\n",
       "      <td>0</td>\n",
       "      <td>1</td>\n",
       "      <td>0</td>\n",
       "      <td>0</td>\n",
       "      <td>0</td>\n",
       "      <td>0</td>\n",
       "      <td>0</td>\n",
       "      <td>1</td>\n",
       "      <td>...</td>\n",
       "      <td>0</td>\n",
       "      <td>1</td>\n",
       "      <td>1</td>\n",
       "      <td>0</td>\n",
       "      <td>0</td>\n",
       "      <td>0.084275</td>\n",
       "      <td>0.082243</td>\n",
       "      <td>0.036829</td>\n",
       "      <td>0.079814</td>\n",
       "      <td>0.033379</td>\n",
       "    </tr>\n",
       "    <tr>\n",
       "      <th>118572</th>\n",
       "      <td>0</td>\n",
       "      <td>885.207600</td>\n",
       "      <td>0</td>\n",
       "      <td>0</td>\n",
       "      <td>0</td>\n",
       "      <td>1</td>\n",
       "      <td>0</td>\n",
       "      <td>0</td>\n",
       "      <td>0</td>\n",
       "      <td>1</td>\n",
       "      <td>...</td>\n",
       "      <td>0</td>\n",
       "      <td>0</td>\n",
       "      <td>1</td>\n",
       "      <td>0</td>\n",
       "      <td>0</td>\n",
       "      <td>0.084882</td>\n",
       "      <td>0.091562</td>\n",
       "      <td>0.034012</td>\n",
       "      <td>0.089478</td>\n",
       "      <td>0.031878</td>\n",
       "    </tr>\n",
       "    <tr>\n",
       "      <th>118573</th>\n",
       "      <td>0</td>\n",
       "      <td>756.830346</td>\n",
       "      <td>0</td>\n",
       "      <td>0</td>\n",
       "      <td>0</td>\n",
       "      <td>1</td>\n",
       "      <td>0</td>\n",
       "      <td>0</td>\n",
       "      <td>0</td>\n",
       "      <td>1</td>\n",
       "      <td>...</td>\n",
       "      <td>1</td>\n",
       "      <td>0</td>\n",
       "      <td>0</td>\n",
       "      <td>0</td>\n",
       "      <td>0</td>\n",
       "      <td>0.085608</td>\n",
       "      <td>0.106345</td>\n",
       "      <td>0.030419</td>\n",
       "      <td>0.107163</td>\n",
       "      <td>0.031878</td>\n",
       "    </tr>\n",
       "    <tr>\n",
       "      <th>118574</th>\n",
       "      <td>0</td>\n",
       "      <td>1000.939000</td>\n",
       "      <td>0</td>\n",
       "      <td>0</td>\n",
       "      <td>0</td>\n",
       "      <td>1</td>\n",
       "      <td>0</td>\n",
       "      <td>0</td>\n",
       "      <td>0</td>\n",
       "      <td>1</td>\n",
       "      <td>...</td>\n",
       "      <td>0</td>\n",
       "      <td>0</td>\n",
       "      <td>1</td>\n",
       "      <td>0</td>\n",
       "      <td>0</td>\n",
       "      <td>0.085608</td>\n",
       "      <td>0.098713</td>\n",
       "      <td>0.034670</td>\n",
       "      <td>0.100821</td>\n",
       "      <td>0.032460</td>\n",
       "    </tr>\n",
       "    <tr>\n",
       "      <th>118575</th>\n",
       "      <td>0</td>\n",
       "      <td>898.620000</td>\n",
       "      <td>0</td>\n",
       "      <td>0</td>\n",
       "      <td>1</td>\n",
       "      <td>0</td>\n",
       "      <td>0</td>\n",
       "      <td>0</td>\n",
       "      <td>0</td>\n",
       "      <td>1</td>\n",
       "      <td>...</td>\n",
       "      <td>0</td>\n",
       "      <td>0</td>\n",
       "      <td>0</td>\n",
       "      <td>0</td>\n",
       "      <td>0</td>\n",
       "      <td>0.084882</td>\n",
       "      <td>0.091562</td>\n",
       "      <td>0.034172</td>\n",
       "      <td>0.089478</td>\n",
       "      <td>0.030596</td>\n",
       "    </tr>\n",
       "  </tbody>\n",
       "</table>\n",
       "<p>118576 rows × 25 columns</p>\n",
       "</div>"
      ],
      "text/plain": [
       "        no_show        price  branch_Orchard  country_China  country_India  \\\n",
       "0             1   756.830346               0              1              0   \n",
       "1             0  1005.442600               1              0              1   \n",
       "2             0   650.940000               1              0              0   \n",
       "3             0   978.670000               1              1              0   \n",
       "4             0   756.830346               1              1              0   \n",
       "...         ...          ...             ...            ...            ...   \n",
       "118571        0   953.940000               0              1              0   \n",
       "118572        0   885.207600               0              0              0   \n",
       "118573        0   756.830346               0              0              0   \n",
       "118574        0  1000.939000               0              0              0   \n",
       "118575        0   898.620000               0              0              1   \n",
       "\n",
       "        country_Indonesia  country_Japan  country_Malaysia  country_Singapore  \\\n",
       "0                       0              0                 0                  0   \n",
       "1                       0              0                 0                  0   \n",
       "2                       0              0                 0                  0   \n",
       "3                       0              0                 0                  0   \n",
       "4                       0              0                 0                  0   \n",
       "...                   ...            ...               ...                ...   \n",
       "118571                  0              0                 0                  0   \n",
       "118572                  1              0                 0                  0   \n",
       "118573                  1              0                 0                  0   \n",
       "118574                  1              0                 0                  0   \n",
       "118575                  0              0                 0                  0   \n",
       "\n",
       "        first_time_Yes  ...  platform_Website  num_adults_2  num_children_1  \\\n",
       "0                    1  ...                 0             1               1   \n",
       "1                    1  ...                 0             0               0   \n",
       "2                    1  ...                 1             0               0   \n",
       "3                    1  ...                 0             0               1   \n",
       "4                    1  ...                 1             0               0   \n",
       "...                ...  ...               ...           ...             ...   \n",
       "118571               1  ...                 0             1               1   \n",
       "118572               1  ...                 0             0               1   \n",
       "118573               1  ...                 1             0               0   \n",
       "118574               1  ...                 0             0               1   \n",
       "118575               1  ...                 0             0               0   \n",
       "\n",
       "        num_children_2  num_children_3  booking_month  arrival_month  \\\n",
       "0                    0               0       0.083643       0.098713   \n",
       "1                    0               0       0.080067       0.067459   \n",
       "2                    0               0       0.080067       0.098713   \n",
       "3                    0               0       0.084275       0.087615   \n",
       "4                    1               0       0.080421       0.067459   \n",
       "...                ...             ...            ...            ...   \n",
       "118571               0               0       0.084275       0.082243   \n",
       "118572               0               0       0.084882       0.091562   \n",
       "118573               0               0       0.085608       0.106345   \n",
       "118574               0               0       0.085608       0.098713   \n",
       "118575               0               0       0.084882       0.091562   \n",
       "\n",
       "        arrival_day  checkout_month  checkout_day  \n",
       "0          0.033885        0.100821      0.037031  \n",
       "1          0.033067        0.079814      0.034940  \n",
       "2          0.030149        0.100821      0.030757  \n",
       "3          0.034012        0.086889      0.034940  \n",
       "4          0.030630        0.064541      0.031102  \n",
       "...             ...             ...           ...  \n",
       "118571     0.036829        0.079814      0.033379  \n",
       "118572     0.034012        0.089478      0.031878  \n",
       "118573     0.030419        0.107163      0.031878  \n",
       "118574     0.034670        0.100821      0.032460  \n",
       "118575     0.034172        0.089478      0.030596  \n",
       "\n",
       "[118576 rows x 25 columns]"
      ]
     },
     "execution_count": 426,
     "metadata": {},
     "output_type": "execute_result"
    }
   ],
   "source": [
    "df1"
   ]
  },
  {
   "cell_type": "markdown",
   "id": "9d37a7ef",
   "metadata": {},
   "source": [
    "### (c) Log Transformation\n",
    "\n",
    "The column price will be log transformed to take care of outliers and make it normally distributed."
   ]
  },
  {
   "cell_type": "code",
   "execution_count": 427,
   "id": "df25554e",
   "metadata": {},
   "outputs": [],
   "source": [
    "# Log transform price as it is slightly right-skewed \n",
    "df1['price'] = np.log((1+ df1['price']))"
   ]
  },
  {
   "cell_type": "code",
   "execution_count": 428,
   "id": "a67db34e",
   "metadata": {},
   "outputs": [
    {
     "data": {
      "text/plain": [
       "Text(6.5, 1000, 'Average = 6.78')"
      ]
     },
     "execution_count": 428,
     "metadata": {},
     "output_type": "execute_result"
    },
    {
     "data": {
      "image/png": "[encoded data removed]",
      "text/plain": [
       "<Figure size 864x360 with 1 Axes>"
      ]
     },
     "metadata": {},
     "output_type": "display_data"
    }
   ],
   "source": [
    "# Create the histogram for Age to observe the distribution\n",
    "# Calculate the mean of Age_log for annotation in the histogram \n",
    "price_log_mean = np.round(np.mean(df1['price']), 2)\n",
    "\n",
    "fig, ax = plt.subplots(figsize = (12,5))\n",
    "df1['price'].hist(bins=30, color='#A9C5D3')\n",
    "ax.axvline(price_log_mean, color='r', label = 'price_log_mean')\n",
    "ax.set_title('Price Histogram after Log Transform', fontsize=12)\n",
    "ax.set_xlabel('Price (log scale)', fontsize=12)\n",
    "ax.set_ylabel('Frequency', fontsize=12)\n",
    "ax.text(6.5, 1000, f'Average = {price_log_mean}', fontsize=10)"
   ]
  },
  {
   "cell_type": "markdown",
   "id": "60b306c5",
   "metadata": {},
   "source": [
    "The price feature looks more normally distributed after log transformation."
   ]
  },
  {
   "cell_type": "code",
   "execution_count": 429,
   "metadata": {},
   "outputs": [
    {
     "data": {
      "text/html": [
       "<div>\n",
       "<style scoped>\n",
       "    .dataframe tbody tr th:only-of-type {\n",
       "        vertical-align: middle;\n",
       "    }\n",
       "\n",
       "    .dataframe tbody tr th {\n",
       "        vertical-align: top;\n",
       "    }\n",
       "\n",
       "    .dataframe thead th {\n",
       "        text-align: right;\n",
       "    }\n",
       "</style>\n",
       "<table border=\"1\" class=\"dataframe\">\n",
       "  <thead>\n",
       "    <tr style=\"text-align: right;\">\n",
       "      <th></th>\n",
       "      <th>no_show</th>\n",
       "      <th>price</th>\n",
       "      <th>branch_Orchard</th>\n",
       "      <th>country_China</th>\n",
       "      <th>country_India</th>\n",
       "      <th>country_Indonesia</th>\n",
       "      <th>country_Japan</th>\n",
       "      <th>country_Malaysia</th>\n",
       "      <th>country_Singapore</th>\n",
       "      <th>first_time_Yes</th>\n",
       "      <th>...</th>\n",
       "      <th>platform_Website</th>\n",
       "      <th>num_adults_2</th>\n",
       "      <th>num_children_1</th>\n",
       "      <th>num_children_2</th>\n",
       "      <th>num_children_3</th>\n",
       "      <th>booking_month</th>\n",
       "      <th>arrival_month</th>\n",
       "      <th>arrival_day</th>\n",
       "      <th>checkout_month</th>\n",
       "      <th>checkout_day</th>\n",
       "    </tr>\n",
       "  </thead>\n",
       "  <tbody>\n",
       "    <tr>\n",
       "      <th>0</th>\n",
       "      <td>1</td>\n",
       "      <td>6.630460</td>\n",
       "      <td>0</td>\n",
       "      <td>1</td>\n",
       "      <td>0</td>\n",
       "      <td>0</td>\n",
       "      <td>0</td>\n",
       "      <td>0</td>\n",
       "      <td>0</td>\n",
       "      <td>1</td>\n",
       "      <td>...</td>\n",
       "      <td>0</td>\n",
       "      <td>1</td>\n",
       "      <td>1</td>\n",
       "      <td>0</td>\n",
       "      <td>0</td>\n",
       "      <td>0.083643</td>\n",
       "      <td>0.098713</td>\n",
       "      <td>0.033885</td>\n",
       "      <td>0.100821</td>\n",
       "      <td>0.037031</td>\n",
       "    </tr>\n",
       "    <tr>\n",
       "      <th>1</th>\n",
       "      <td>0</td>\n",
       "      <td>6.914177</td>\n",
       "      <td>1</td>\n",
       "      <td>0</td>\n",
       "      <td>1</td>\n",
       "      <td>0</td>\n",
       "      <td>0</td>\n",
       "      <td>0</td>\n",
       "      <td>0</td>\n",
       "      <td>1</td>\n",
       "      <td>...</td>\n",
       "      <td>0</td>\n",
       "      <td>0</td>\n",
       "      <td>0</td>\n",
       "      <td>0</td>\n",
       "      <td>0</td>\n",
       "      <td>0.080067</td>\n",
       "      <td>0.067459</td>\n",
       "      <td>0.033067</td>\n",
       "      <td>0.079814</td>\n",
       "      <td>0.034940</td>\n",
       "    </tr>\n",
       "    <tr>\n",
       "      <th>2</th>\n",
       "      <td>0</td>\n",
       "      <td>6.479953</td>\n",
       "      <td>1</td>\n",
       "      <td>0</td>\n",
       "      <td>0</td>\n",
       "      <td>0</td>\n",
       "      <td>0</td>\n",
       "      <td>0</td>\n",
       "      <td>0</td>\n",
       "      <td>1</td>\n",
       "      <td>...</td>\n",
       "      <td>1</td>\n",
       "      <td>0</td>\n",
       "      <td>0</td>\n",
       "      <td>0</td>\n",
       "      <td>0</td>\n",
       "      <td>0.080067</td>\n",
       "      <td>0.098713</td>\n",
       "      <td>0.030149</td>\n",
       "      <td>0.100821</td>\n",
       "      <td>0.030757</td>\n",
       "    </tr>\n",
       "    <tr>\n",
       "      <th>3</th>\n",
       "      <td>0</td>\n",
       "      <td>6.887216</td>\n",
       "      <td>1</td>\n",
       "      <td>1</td>\n",
       "      <td>0</td>\n",
       "      <td>0</td>\n",
       "      <td>0</td>\n",
       "      <td>0</td>\n",
       "      <td>0</td>\n",
       "      <td>1</td>\n",
       "      <td>...</td>\n",
       "      <td>0</td>\n",
       "      <td>0</td>\n",
       "      <td>1</td>\n",
       "      <td>0</td>\n",
       "      <td>0</td>\n",
       "      <td>0.084275</td>\n",
       "      <td>0.087615</td>\n",
       "      <td>0.034012</td>\n",
       "      <td>0.086889</td>\n",
       "      <td>0.034940</td>\n",
       "    </tr>\n",
       "    <tr>\n",
       "      <th>4</th>\n",
       "      <td>0</td>\n",
       "      <td>6.630460</td>\n",
       "      <td>1</td>\n",
       "      <td>1</td>\n",
       "      <td>0</td>\n",
       "      <td>0</td>\n",
       "      <td>0</td>\n",
       "      <td>0</td>\n",
       "      <td>0</td>\n",
       "      <td>1</td>\n",
       "      <td>...</td>\n",
       "      <td>1</td>\n",
       "      <td>0</td>\n",
       "      <td>0</td>\n",
       "      <td>1</td>\n",
       "      <td>0</td>\n",
       "      <td>0.080421</td>\n",
       "      <td>0.067459</td>\n",
       "      <td>0.030630</td>\n",
       "      <td>0.064541</td>\n",
       "      <td>0.031102</td>\n",
       "    </tr>\n",
       "  </tbody>\n",
       "</table>\n",
       "<p>5 rows × 25 columns</p>\n",
       "</div>"
      ],
      "text/plain": [
       "   no_show     price  branch_Orchard  country_China  country_India  \\\n",
       "0        1  6.630460               0              1              0   \n",
       "1        0  6.914177               1              0              1   \n",
       "2        0  6.479953               1              0              0   \n",
       "3        0  6.887216               1              1              0   \n",
       "4        0  6.630460               1              1              0   \n",
       "\n",
       "   country_Indonesia  country_Japan  country_Malaysia  country_Singapore  \\\n",
       "0                  0              0                 0                  0   \n",
       "1                  0              0                 0                  0   \n",
       "2                  0              0                 0                  0   \n",
       "3                  0              0                 0                  0   \n",
       "4                  0              0                 0                  0   \n",
       "\n",
       "   first_time_Yes  ...  platform_Website  num_adults_2  num_children_1  \\\n",
       "0               1  ...                 0             1               1   \n",
       "1               1  ...                 0             0               0   \n",
       "2               1  ...                 1             0               0   \n",
       "3               1  ...                 0             0               1   \n",
       "4               1  ...                 1             0               0   \n",
       "\n",
       "   num_children_2  num_children_3  booking_month  arrival_month  arrival_day  \\\n",
       "0               0               0       0.083643       0.098713     0.033885   \n",
       "1               0               0       0.080067       0.067459     0.033067   \n",
       "2               0               0       0.080067       0.098713     0.030149   \n",
       "3               0               0       0.084275       0.087615     0.034012   \n",
       "4               1               0       0.080421       0.067459     0.030630   \n",
       "\n",
       "   checkout_month  checkout_day  \n",
       "0        0.100821      0.037031  \n",
       "1        0.079814      0.034940  \n",
       "2        0.100821      0.030757  \n",
       "3        0.086889      0.034940  \n",
       "4        0.064541      0.031102  \n",
       "\n",
       "[5 rows x 25 columns]"
      ]
     },
     "execution_count": 429,
     "metadata": {},
     "output_type": "execute_result"
    }
   ],
   "source": [
    "df1.head() "
   ]
  },
  {
   "cell_type": "code",
   "execution_count": 430,
   "id": "eed3b15a",
   "metadata": {},
   "outputs": [
    {
     "name": "stdout",
     "output_type": "stream",
     "text": [
      "<class 'pandas.core.frame.DataFrame'>\n",
      "RangeIndex: 118576 entries, 0 to 118575\n",
      "Data columns (total 25 columns):\n",
      " #   Column                Non-Null Count   Dtype  \n",
      "---  ------                --------------   -----  \n",
      " 0   no_show               118576 non-null  int32  \n",
      " 1   price                 118576 non-null  float64\n",
      " 2   branch_Orchard        118576 non-null  int64  \n",
      " 3   country_China         118576 non-null  int64  \n",
      " 4   country_India         118576 non-null  int64  \n",
      " 5   country_Indonesia     118576 non-null  int64  \n",
      " 6   country_Japan         118576 non-null  int64  \n",
      " 7   country_Malaysia      118576 non-null  int64  \n",
      " 8   country_Singapore     118576 non-null  int64  \n",
      " 9   first_time_Yes        118576 non-null  int64  \n",
      " 10  room_President Suite  118576 non-null  int64  \n",
      " 11  room_Queen            118576 non-null  int64  \n",
      " 12  room_Single           118576 non-null  int64  \n",
      " 13  platform_Email        118576 non-null  int64  \n",
      " 14  platform_Phone        118576 non-null  int64  \n",
      " 15  platform_Website      118576 non-null  int64  \n",
      " 16  num_adults_2          118576 non-null  int64  \n",
      " 17  num_children_1        118576 non-null  int64  \n",
      " 18  num_children_2        118576 non-null  int64  \n",
      " 19  num_children_3        118576 non-null  int64  \n",
      " 20  booking_month         118576 non-null  float64\n",
      " 21  arrival_month         118576 non-null  float64\n",
      " 22  arrival_day           118576 non-null  float64\n",
      " 23  checkout_month        118576 non-null  float64\n",
      " 24  checkout_day          118576 non-null  float64\n",
      "dtypes: float64(6), int32(1), int64(18)\n",
      "memory usage: 22.2 MB\n"
     ]
    }
   ],
   "source": [
    "df1.info()"
   ]
  }
 ],
 "metadata": {
  "kernelspec": {
   "display_name": "Python 3.8.8 ('usage')",
   "language": "python",
   "name": "python3"
  },
  "language_info": {
   "codemirror_mode": {
    "name": "ipython",
    "version": 3
   },
   "file_extension": ".py",
   "mimetype": "text/x-python",
   "name": "python",
   "nbconvert_exporter": "python",
   "pygments_lexer": "ipython3",
   "version": "3.8.8"
  },
  "vscode": {
   "interpreter": {
    "hash": "69aa44bf07342b9235a2e110f6411d720e3fbf6c62ffe10f980eeb9a4f515c7b"
   }
  }
 },
 "nbformat": 4,
 "nbformat_minor": 5
}
